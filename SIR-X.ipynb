{
 "cells": [
  {
   "cell_type": "markdown",
   "metadata": {},
   "source": [
    "## SIR-X\n",
    "\n",
    "Coronavirus COVID-19 is a pandemic that is spreading quickly worlwide. Up to the 29th of March, there are 666,211 cases confirmed, 30,864 deaths and 141,789 recovered people worldwide. Governments and citizens are taking quick decisions to limit the spread of the virus and minimize the number of infected and deaths. These decisions are taken based on the experts opinion, which justify their claims based in the results of predictive models.\n",
    "\n",
    "\n",
    "This Jupyter Notebook is an effort to decrease the access barriers to state of the art yet simple models that can be used to take public policy decisions to limit disease spread and save lives. \n",
    "\n",
    "### SIR model\n",
    "\n",
    "Most epidemic models share a common approach on modelling the spread of a disease. The SIR model is a simple deterministic compartmental model to predict disease spread. An objective population is divided in three groups: the susceptible ($S$), the infected ($I$) and the recovered or removed ($R$). These quantities enter the model as fractions of the total population $P$:\n",
    "\n",
    "\n",
    "$$ S = \\frac{\\text{Number of susceptible individuals}}{\\text{Population size}}$$\n",
    "\n",
    "$$ I = \\frac{\\text{Number of infected individuals}}{\\text{Population size}}$$\n",
    "\n",
    "$$ R = \\frac{\\text{Number of recovered or removed individuals}}{\\text{Population size}}$$\n",
    "\n",
    "As a pandemics infects and kills much more quickly than human natural rates of birth and death, the population size is assumed constant except for the individuals that recover or die. Hence, $S+I+R=P/P=1$. The pandemics dynamics is modelled as a system of ordinary differential equations which governs the rate of change at which the percentage of susceptible, infected and recovered/removed individuals in a population evolve.\n",
    "\n",
    "The number of possible transmissions is proportional to the number of interactions between the susceptible and infected populations, $S \\times I $:\n",
    "\n",
    "$$\\frac{dS}{dt} = -\\alpha SI.$$\n",
    "\n",
    "Where $\\alpha$ is the reproduction rate of the process which quantifies how many of the interactions between susceptible and infected populations yield to new infections per day.\n",
    "\n",
    "The population of infected individuals will increase with new infections and decrease with recovered or removed people. \n",
    "\n",
    "$$\\frac{dI}{dt} = \\alpha S I  - \\beta I, $$\n",
    "$$\\frac{dR}{dt} = \\beta I. $$\n",
    "\n",
    "Where $ \\beta $ is the percentage of the infected population that is removed from the transmission process per day.\n",
    "\n",
    "In early stages of the infection, the number of infected people is much lower than the susceptible populations. Hence, $S \\approx 1$ making $dI/dt$ linear and the system has the analytical solution $I(t) = I_0 \\exp (\\alpha - \\beta)t$.\n",
    "\n"
   ],
   "execution_count": null,
   "outputs": []
  },
  {
   "cell_type": "markdown",
   "metadata": {},
   "source": [
    "#### Numerical implementation - SIR model\n",
    "\n",
    "Three python packages are imported: numpy for numerical computing, matplotlib.pyplot for visualization and the numerical integration routine odeint from scipy.integrate:"
   ],
   "execution_count": null,
   "outputs": []
  },
  {
   "cell_type": "code",
   "execution_count": null,
   "metadata": {},
   "outputs": [],
   "source": [
    "import numpy as np # Numerical computing\n",
    "import matplotlib.pyplot as plt # Visualization\n",
    "from scipy.integrate import odeint # ODE system numerical integrator\n",
    "from scipy.optimize import curve_fit # Minimize squared errors using LM method"
   ]
  },
  {
   "cell_type": "markdown",
   "metadata": {},
   "source": [
    "Implementing systems of ordinary differential equations (ODEs) in python is straightforward. First, a function is created to represent the system inputs and outputs. The inputs of the function are a vector of state variables ${\\vec{w}}$, the independent variable $t$ and a vector of parameters $\\vec{p}$. The output of the function must be the right hand side of the ODE system as a list.\n",
    "\n",
    "Following this approach, the SIR model can be implemented as it follows:\n",
    "\n",
    "$$ \\vec{w} = [S,I,R]$$\n",
    "$$ \\vec{p} = [\\alpha, \\beta] $$\n",
    "\n",
    "And $t$ enters directly. The function return will be the list of ODEs.\n",
    "\n",
    "$$\\vec{f} = \\left[ \\frac{dS}{dt}, \\frac{dI}{dt}, \\frac{dR}{dt} \\right]$$\n",
    "\n",
    "So $\\vec{f} = \\text{sir}(\\vec{w}, t, \\vec{p})$.\n",
    "\n",
    "The solution of this system is a vector field $\\vec{w} = [S(t),I(t),R(t)]$. In day to day words, it gives the percentage of the population who are susceptible (S), infected (I) and recovered or removed R(t) as a function of time. There is no analytical solution for this system. However, a numerical solution can be obtained using a numerical integrator. In this implementation, the function scipy.odeint is used to integrate the differential system. The ODE system of the SIR model was implemented in the function sirx(t,w,p) on the module model.py. The solver is implemented in the function _solve on the module model.py.\n"
   ],
   "execution_count": null,
   "outputs": []
  },
  {
   "cell_type": "markdown",
   "metadata": {},
   "source": [
    "### SIR-X model\n",
    "\n",
    "A new epidemic model based in SIR, SIRX, was developed by the [Robert Koch Institut](http://rocs.hu-berlin.de/corona/docs/forecast/model/#sir-x-dynamics-outbreaks-with-temporally-increasing-interventions) and is implemented in what follows. A full description of the model is available in the [Robert Koch Institut SIRX model webiste](http://rocs.hu-berlin.de/corona/docs/forecast/model/#sir-x-dynamics-outbreaks-with-temporally-increasing-interventions).\n",
    "\n",
    "The ODE system of the SIR-X model was implemented in the function sirx(t,w,p) on the module model.py"
   ],
   "execution_count": null,
   "outputs": []
  },
  {
   "cell_type": "code",
   "execution_count": null,
   "metadata": {},
   "outputs": [],
   "source": [
    "import model\n",
    "from model import _solve #?\n",
    "\n",
    "class Model:\n",
    "    \n",
    "    def __init__(self, p, w0):\n",
    "        self.setmodel()\n",
    "        self.p = p\n",
    "        self.w0 = w0\n",
    "        \n",
    "    \n",
    "    def solve(self, tf_secs, numpoints):\n",
    "        tspan = np.linspace(0,tf_secs,numpoints)\n",
    "        \n",
    "        a = _solve(self.func, self.p, self.w0,\n",
    "                     tspan, numpoints)\n",
    "        return a\n",
    "    \n",
    "    @property\n",
    "    def R_0(self):\n",
    "        \"\"\" Returns reproduction number\n",
    "        R_0 = alpha/beta\"\"\"\n",
    "        return self.p[0]/self.p[1]\n",
    "    \n",
    "    def fit(self, t_obs, n_I_obs, population, inplace=False):\n",
    "        \"\"\" Use the Levenberg-Marquardt algorithm to fit\n",
    "        the parameter alpha, as beta is assumed constant\n",
    "        \n",
    "        inputs:\n",
    "        t_obs: Vector of days corresponding to the observations of number of infected people\n",
    "        n_I_obs: Vector of number of infected people\n",
    "        population: Size of the objective population\n",
    "        \n",
    "        Returns\n",
    "        \"\"\"\n",
    "        \n",
    "        secs_obs = t_obs*3600*24\n",
    "        \n",
    "        def function_handle(t, alpha, beta = self.p[1], population=population):\n",
    "            p = [alpha,beta]\n",
    "            I_mod = _solve(self.func, p, self.w0,\n",
    "                           t, numpoints=len(t_obs))\n",
    "            n_I_mod = I_mod[:,2]*population\n",
    "            return n_I_mod\n",
    "        \n",
    "        # Fit alpha\n",
    "        alpha_opt, pcov = curve_fit(f = function_handle,\n",
    "                        xdata = secs_obs, ydata = n_I_obs, p0=self.p[0])\n",
    "        p_new = [i for i in self.p] \n",
    "        p_new[0] = alpha_opt[0]\n",
    "        self.p=p_new\n",
    "        return \n",
    "        # return p_new, pcov\n",
    "            \n",
    "    pass\n",
    "\n",
    "class SIR(Model):\n",
    "    def setmodel(self):\n",
    "        self.func = model.sir\n",
    "    pass\n",
    "\n",
    "class SIRX(Model):\n",
    "    def setmodel(self):\n",
    "        self.func = model.sirx\n",
    "    pass"
   ]
  },
  {
   "cell_type": "markdown",
   "metadata": {},
   "source": [
    "### Usage example\n",
    "\n",
    "\n",
    "\n",
    "#### Case study\n",
    "\n",
    "The borough of Ealing, in London, is selected arbitrarly as one of the authors is living there at the moment. According to the UK office for National Statistics, the population of Ealing by mid-year 2018 is [342,000](https://www.ealing.gov.uk/info/201048/ealing_facts_and_figures/2184/population_and_households/1). The number of reported infections at 29/03/2020 is 241.\n",
    "\n",
    "#### Model parameters\n",
    "As an implementation examples, the parameter $\\beta$ is estimated from the methodology followed by the [Robert Koch Institut SIRX model webiste](http://rocs.hu-berlin.de/corona/docs/forecast/model/#sir-x-dynamics-outbreaks-with-temporally-increasing-interventions). The institute estimated the a removal rate value $\\beta = 0.38/d$ (mean infections time $T_I = 1/\\beta = 2.6d)$ based on one third of the reported average infections preioud of moderate cases in Mainland China.\n",
    "\n",
    "The reproduction number is fixed $R_0 = \\alpha / \\beta = 2.5$ as a first approximation. \n",
    "\n",
    "Please note that the predictions of this model shouldn't be taken in consideratin, as the SIR model doesn't consider dynamic variation of model parameters, which is observed in reality."
   ],
   "execution_count": null,
   "outputs": []
  },
  {
   "cell_type": "markdown",
   "metadata": {},
   "source": [
    "### Solution and implementation\n",
    "The aim of this API is to provide an user friendly approach to build a SIR model and fit it to a target dataset in order to make predictions in few lines of code.\n"
   ],
   "execution_count": null,
   "outputs": []
  },
  {
   "cell_type": "code",
   "execution_count": null,
   "metadata": {},
   "outputs": [],
   "source": [
    "# Use Ealing as an example to determine model initial conditions\n",
    "Ealing_data = [8, 18, 20, 18, 21, 42, 53, 54, 80, 97, 106, 123, 136, 165, 209, 241] # N_of infected\n",
    "\n",
    "P_Ealing = 342000 # Ealing population ONS 2018 mid year\n",
    "I_Ealing = 8      # Infected people at 14/03/2020\n",
    "R_Ealing = 0      # Recovered people at 29/03/2020\n",
    "n_days = len(Ealing_data)\n",
    "\n",
    "# Input parameters\n",
    "beta = 0.38/(3600*24) # Per day\n",
    "alpha = 2.5 * beta # WHO estimate"
   ]
  },
  {
   "cell_type": "markdown",
   "metadata": {},
   "source": [
    "#### Calculate model parameters and initial conditions"
   ],
   "execution_count": null,
   "outputs": []
  },
  {
   "cell_type": "code",
   "execution_count": null,
   "metadata": {},
   "outputs": [],
   "source": [
    "# Calculate initial conditions in terms of population fraction\n",
    "S0 = (P_Ealing-I_Ealing)/P_Ealing\n",
    "I0 = I_Ealing/P_Ealing\n",
    "R0 = R_Ealing/P_Ealing      # Recovered people\n",
    "\n",
    "# Construct vector of parameters\n",
    "p = [alpha, beta]\n",
    "\n",
    "# Construct vector of initial conditions\n",
    "w0 = [S0, I0, R0]\n",
    "\n",
    "# ODE solver parameters (optional)\n",
    "abserr = 1.0e-8  #\n",
    "relerr = 1.0e-6  #\n",
    "\n",
    "tf = 3600*24*(n_days-1)   # Final time in seconds\n",
    "numpoints = n_days #\n",
    "\n",
    "# Create time vector to input to the integrator odeint\n",
    "t = np.linspace(0, tf,numpoints)"
   ]
  },
  {
   "cell_type": "markdown",
   "metadata": {},
   "source": [
    "### Build the model with the default parameters and predict the number of susceptible, infected and recovered people in the Ealing borough."
   ],
   "execution_count": null,
   "outputs": []
  },
  {
   "cell_type": "code",
   "execution_count": null,
   "metadata": {},
   "outputs": [],
   "source": [
    "# Build a SIR model\n",
    "my_SIR = SIR(p,w0)\n",
    "# Call model.solve functions with the time in seconds (tf) and the number of points where the solution will be evaluated\n",
    "sol = my_SIR.solve(tf,numpoints)\n",
    "# Unpack the numerical solution for the susceptible (S), infected (I) and recovered or removed (R)\n",
    "S_sir = sol[:,1]\n",
    "I_sir = sol[:,2]\n",
    "R_sir = sol[:,3]\n",
    "# Convert the ratio to population\n",
    "N_I_sir = I_sir*P_Ealing\n",
    "# Plot the results\n",
    "# Define array of days\n",
    "days_list = np.linspace(0, n_days-1, n_days)\n",
    "plt.plot(days_list, N_I_sir)\n",
    "plt.plot(days_list, Ealing_data,'bo')\n",
    "plt.show()\n",
    "my_SIR.R_0"
   ]
  },
  {
   "cell_type": "markdown",
   "metadata": {},
   "source": [
    "If the default parameters are used, the results are completely unreliable. Indeed, the model predicts more than 150 times more people infected. This is why a model shouldn't be used blindly, and always the parameters must be checked. In UK, Social distancing started voluntarily on the 16th of February, and the lockdown started on the 23rd of February. The effect of this policy change in terms of our model, is a decrease in the reproduction rate $R_0 = \\alpha / \\beta$. As the national health system (NHS) of UK didn't reach full capacity on the period between the 15th and the 29th of March, it is reasonable to assume that the main change occured owing to a decrease in the transmission rate $\\alpha$.\n",
    "\n",
    "To obtain a more realistic approximation, the parameter can be modified to better reproduce the observed data. This process is named **parameter fitting** and it is widely used not only on epidemiology, but in any discipline which uses mathematical models to make prediction. \n",
    "\n",
    "\n",
    "The function model.fit() enables to fit the desired parameters to a certain dataset. The parameter fitting is straightforward using open-sir:"
   ],
   "execution_count": null,
   "outputs": []
  },
  {
   "cell_type": "markdown",
   "metadata": {},
   "source": [
    "### Parameter Fitting \n",
    "Fitting $R_0$ through $\\alpha$ keeping $\\beta$ constant\n",
    "\n",
    "In the following case study, $R_0$ will be fitted to minimize the mean squared error between the model predictions and UK historical data on the Ealing borough in the time period between the 15th and the 29th of March of 2020."
   ],
   "execution_count": null,
   "outputs": []
  },
  {
   "cell_type": "code",
   "execution_count": null,
   "metadata": {},
   "outputs": [],
   "source": [
    "# Create SIR with default parameters\n",
    "my_SIR_fitted = SIR(p,w0)\n",
    "# Create a vector of times\n",
    "# t = np.linspace(0, tf,numpoints)\n",
    "# Fit parameters\n",
    "w = my_SIR_fitted.fit(days_list, Ealing_data, P_Ealing)\n",
    "# Print the fitted reproduction rate\n",
    "print(\"Fitted reproduction rate R_0 = %.2f\" % my_SIR_fitted.R_0)\n",
    "# Build the new solution\n",
    "sol = my_SIR_fitted.solve(tf, numpoints)\n",
    "# Plot the results\n",
    "\n",
    "plt.plot(days_list,sol[:,2]*P_Ealing)\n",
    "plt.plot(days_list,Ealing_data,'bo')\n",
    "plt.show()"
   ]
  },
  {
   "cell_type": "markdown",
   "metadata": {},
   "source": [
    "## DANGER ZONE\n",
    "### Example: predict the total number of infections and the time where the number of infected people is maximum\n",
    "\n",
    "This is extremely dangerous as $R_0$ is extremely likely to change with time. However we have seen many people taking decisions in this kind of analysis. Use it at your own risk and with a metric ton of salt."
   ],
   "execution_count": null,
   "outputs": []
  },
  {
   "cell_type": "markdown",
   "metadata": {},
   "source": [],
   "execution_count": null,
   "outputs": []
  },
  {
   "cell_type": "code",
   "execution_count": null,
   "metadata": {},
   "outputs": [],
   "source": [
    "long_term_days = 90\n",
    "# Convert into seconds\n",
    "tf_long = long_term_days*36*2400\n",
    "sol_long = my_SIR_fitted.solve(tf_long, long_term_days)\n",
    "N_S_long = sol_long[:,1]*P_Ealing\n",
    "N_I_long = sol_long[:,2]*P_Ealing\n",
    "N_R_long = sol_long[:,3]*P_Ealing"
   ]
  },
  {
   "cell_type": "code",
   "execution_count": null,
   "metadata": {
    "scrolled": true
   },
   "outputs": [],
   "source": [
    "# Plot the number of susceptible, infected and recovered in a two months period\n",
    "tspan_long = np.linspace(0,long_term_days,long_term_days)\n",
    "plt.figure(figsize=[15,5])\n",
    "plt.subplot(1,3,1)\n",
    "plt.plot(tspan_long,N_S_long)\n",
    "plt.xlabel('Days')\n",
    "plt.ylabel(\"Number of people\")\n",
    "plt.title(\"Susceptible\")\n",
    "plt.subplot(1,3,2)\n",
    "plt.plot(tspan_long,N_I_long)\n",
    "plt.xlabel('Days')\n",
    "plt.title(\"Infected\")\n",
    "plt.subplot(1,3,3)\n",
    "plt.plot(tspan_long,N_R_long)\n",
    "plt.title(\"Recovered\")\n",
    "plt.xlabel('Days')\n",
    "plt.show()"
   ]
  },
  {
   "cell_type": "markdown",
   "metadata": {},
   "source": [
    "It can be observed that the SIR model reproduces the all familiar infection bell, as well as the evolution of susceptible and recovered population. It is interesting to observe that if no measures are taken in a $R_0 = 1.47$ scenario, 65% of the Ealing population would be infected in three months."
   ],
   "execution_count": null,
   "outputs": []
  },
  {
   "cell_type": "markdown",
   "metadata": {},
   "source": [
    "### Sensitivity to $R_0$\n",
    "\n",
    "A known weakness of all pandemics prediction model is the sensitivity to their parameters. In the following case study, $R_0$ will be fitted to minimize the mean squared error between the model predictions and UK historical data on the Ealing borough in the time period between the 15th and the 29th of March of 2020."
   ],
   "execution_count": null,
   "outputs": []
  },
  {
   "cell_type": "code",
   "execution_count": null,
   "metadata": {},
   "outputs": [],
   "source": [
    "def compare_infections(model, tf, numpoints, alpha_list=2.5, abserr=1e-8, relerr=1e-6):\n",
    "    \"\"\" compare_infections compare SIR model predictions against\n",
    "    a list of alpha values\n",
    "    \n",
    "    Inputs:\n",
    "    w0: Initial conditions\n",
    "    t: Time vector /\n",
    "    alpha_list: list or numpy array of values of alpha to be tested\n",
    "    \n",
    "    Outputs:\n",
    "    S_list: List of predictions for the fraction of susceptible population for each alpha\n",
    "    I_list: List of predictions for the fraction of infected population for each alpha\n",
    "    R_list: List of predictions for the fraction of recovered/removed population for each alpha\n",
    "    \"\"\"\n",
    "    S_list = []\n",
    "    I_list = []\n",
    "    R_list = []\n",
    "    \n",
    "    for i in alpha_list:\n",
    "        # Update parameter list\n",
    "        model.p[0] = i\n",
    "        wsol = model.solve(tf,numpoints)\n",
    "        S_list.append(wsol[:,1])\n",
    "        I_list.append(wsol[:,2])\n",
    "        R_list.append(wsol[:,3]) \n",
    "    return S_list, I_list, R_list"
   ]
  },
  {
   "cell_type": "markdown",
   "metadata": {},
   "source": [
    "### Generate predictions for each alpha"
   ],
   "execution_count": null,
   "outputs": []
  },
  {
   "cell_type": "code",
   "execution_count": null,
   "metadata": {},
   "outputs": [],
   "source": [
    "my_SIR\n",
    "alpha_list = beta*np.array([1.5,1.6,1.7])\n",
    "S_list, I_list, R_list = compare_infections(my_SIR, tf_long, int(tf_long/(24*3600)), alpha_list)#"
   ]
  },
  {
   "cell_type": "code",
   "execution_count": null,
   "metadata": {},
   "outputs": [],
   "source": [
    "col = ['r','b','k']\n",
    "plt.figure(figsize=[15,5])\n",
    "for i in range(len(S_list)):\n",
    "    plt.subplot(1,3,1)\n",
    "    plt.plot(tspan_long,S_list[i], col[i]+\"--\")\n",
    "    plt.legend(['R_0 = 1.5','R_0 = 1.6','R_0 = 1.7']) \n",
    "    plt.xlabel('Days')\n",
    "    plt.ylabel('Fraction of population')\n",
    "    plt.title('S')\n",
    "    plt.subplot(1,3,2)\n",
    "    plt.plot(tspan_long,I_list[i], col[i])\n",
    "    plt.legend(['R_0 = 1.5','R_0 = 1.6','R_0 = 1.7']) \n",
    "    plt.xlabel('Days')\n",
    "    plt.title('I')\n",
    "    plt.subplot(1,3,3)\n",
    "    plt.plot(tspan_long,R_list[i], col[i]+\"-.\")\n",
    "    plt.legend(['R_0 = 1.5','R_0 = 1.6','R_0 = 1.7']) \n",
    "    plt.xlabel('Days')\n",
    "    plt.title('R')"
   ]
  },
  {
   "cell_type": "markdown",
   "metadata": {},
   "source": [
    "We observe that a change as little as 6% in the reproduction rate, can change dramatically the dynamic of the pandemic"
   ],
   "execution_count": null,
   "outputs": []
  },
  {
   "cell_type": "markdown",
   "metadata": {},
   "source": [
    "### Example 4: Fit R_0 for UK values\n",
    "[sourced from UK Arcgis](https://www.arcgis.com/apps/opsdashboard/index.html#/f94c3c90da5b4e9f9a0b19484dd4bb14)"
   ],
   "execution_count": null,
   "outputs": []
  },
  {
   "cell_type": "code",
   "execution_count": null,
   "metadata": {},
   "outputs": [],
   "source": [
    "P_UK = 67886011\n",
    "# Data up to 28th of March\n",
    "I_UK= [3269, 3983, 5018, 5683, 6650, 8077, 9529, 11658, 14543, 17089]\n",
    "t_d = np.linspace(0,9,10)\n",
    "t_s = t_d*3600*24\n",
    "\n",
    "S0 = (P_UK-I_UK[0])/P_UK\n",
    "I0 = I_UK[0]/P_UK\n",
    "w0 = [S0, I0, R0]\n",
    "p = [alpha,beta]\n",
    "\n",
    "# Create empty model\n",
    "SIR_UK = SIR(p, w0)\n",
    "# Train model\n",
    "SIR_UK.fit(t_d, I_UK, P_UK)\n",
    "# Build numerical solution\n",
    "I_opt = SIR_UK.solve(t_s[-1], 10)[:,2]*P_UK\n",
    "# lag = 6\n",
    "\n",
    "R_opt = SIR_UK.R_0 # \n",
    "\n",
    "plt.figure(figsize=[6,6])\n",
    "plt.plot(t_d,I_UK,'o')\n",
    "plt.plot(t_d, I_opt)\n",
    "plt.legend([\"UK Data\",\"SIR, $R_{0,opt}$ = %.2f\"%R_opt])\n",
    "plt.title(\"Fitting of the SIR model against 15 days of UK data\")\n",
    "plt.ylabel(\"Number of people infected\")\n",
    "plt.xlabel(\"Day\")\n",
    "plt.xlim([min(t_d),max(t_d)])\n",
    "plt.show()\n",
    "\n",
    "I_UK-I_opt\n",
    "MSE = sum(np.sqrt((I_opt-I_UK)**2))/len(I_UK)        \n",
    "print(\"Mean squared error on the predictions %.2f\" % MSE)"
   ]
  },
  {
   "cell_type": "code",
   "execution_count": null,
   "metadata": {},
   "outputs": [],
   "source": [
    "# 1 standard deviation errors on the parameter\n",
    "MSE = sum(np.sqrt((I_opt-I_UK)**2))/len(I_opt)        "
   ]
  },
  {
   "cell_type": "code",
   "execution_count": null,
   "metadata": {},
   "outputs": [],
   "source": [
    "# Utilities that may be interesting to include in solve: predict the following days\n",
    "pred = 3\n",
    "I_pred = SIR_UK.solve(t_s[-1]+pred*3600*24, 10+pred)[:,2]*P_UK\n",
    "print(\"Number of infected people predicted %.0f after %.0f days\" % (I_pred[-1], pred))\n",
    "\n",
    "# 1 standard deviation errors on the parameter\n",
    "MSE = sum(np.sqrt((I_opt-I_UK)**2))/len(I_opt)      \n",
    "print(\"The mean squared error of the model is %.0f\" % MSE)"
   ]
  }
 ],
 "metadata": {
  "kernelspec": {
   "display_name": "Python 3",
   "language": "python",
   "name": "python3"
  },
  "language_info": {
   "codemirror_mode": {
    "name": "ipython",
    "version": 3
   },
   "file_extension": ".py",
   "mimetype": "text/x-python",
   "name": "python",
   "nbconvert_exporter": "python",
   "pygments_lexer": "ipython3",
   "version": "3.7.3-final"
  }
 },
 "nbformat": 4,
 "nbformat_minor": 2
}