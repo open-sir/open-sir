{
 "cells": [
  {
   "cell_type": "markdown",
   "metadata": {},
   "source": [
    "## SIR-X\n",
    "\n",
    "Coronavirus COVID-19 is a pandemic that is spreading quickly worlwide. Up to the 29th of March, there are 666,211 cases confirmed, 30,864 deaths and 141,789 recovered people worldwide. Governments and citizens are taking quick decisions to limit the spread of the virus and minimize the number of infected and deaths. These decisions are taken based on the experts opinion, which justify their claims based in the results of predictive models.\n",
    "\n",
    "\n",
    "This Jupyter Notebook is an effort to decrease the access barriers to state of the art yet simple models that can be used to take public policy decisions to limit disease spread and save lives. \n",
    "\n",
    "### SIR model\n",
    "\n",
    "Most epidemic models share a common approach on modelling the spread of a disease. The SIR model is a simple deterministic compartmental model to predict disease spread. An objective population is divided in three groups: the susceptible ($S$), the infected ($I$) and the recovered or removed ($R$). These quantities enter the model as fractions of the total population $P$:\n",
    "\n",
    "\n",
    "$$ S = \\frac{\\text{Number of susceptible individuals}}{\\text{Population size}}$$\n",
    "\n",
    "$$ I = \\frac{\\text{Number of infected individuals}}{\\text{Population size}}$$\n",
    "\n",
    "$$ R = \\frac{\\text{Number of recovered or removed individuals}}{\\text{Population size}}$$\n",
    "\n",
    "As a pandemics infects and kills much more quickly than human natural rates of birth and death, the population size is assumed constant except for the individuals that recover or die. Hence, $S+I+R=P/P=1$. The pandemics dynamics is modelled as a system of ordinary differential equations which governs the rate of change at which the percentage of susceptible, infected and recovered/removed individuals in a population evolve.\n",
    "\n",
    "The number of possible transmissions is proportional to the number of interactions between the susceptible and infected populations, $S \\times I $:\n",
    "\n",
    "$$\\frac{dS}{dt} = -\\alpha SI.$$\n",
    "\n",
    "Where $\\alpha$ is the reproduction rate of the process which quantifies how many of the interactions between susceptible and infected populations yield to new infections per day.\n",
    "\n",
    "The population of infected individuals will increase with new infections and decrease with recovered or removed people. \n",
    "\n",
    "$$\\frac{dI}{dt} = \\alpha S I  - \\beta I, $$\n",
    "$$\\frac{dR}{dt} = \\beta I. $$\n",
    "\n",
    "Where $ \\beta $ is the percentage of the infected population that is removed from the transmission process per day.\n",
    "\n",
    "In early stages of the infection, the number of infected people is much lower than the susceptible populations. Hence, $S \\approx 1$ making $dI/dt$ linear and the system has the analytical solution $I(t) = I_0 \\exp (\\alpha - \\beta)t$.\n",
    "\n"
   ]
  },
  {
   "cell_type": "markdown",
   "metadata": {},
   "source": [
    "#### Numerical implementation - SIR model\n",
    "\n",
    "Three python packages are imported: numpy for numerical computing, matplotlib.pyplot for visualization and the numerical integration routine odeint from scipy.integrate:"
   ]
  },
  {
   "cell_type": "code",
   "execution_count": 1,
   "metadata": {},
   "outputs": [],
   "source": [
    "import numpy as np # Numerical computing\n",
    "import matplotlib.pyplot as plt # Visualization\n",
    "from scipy.integrate import odeint # ODE system numerical integrator"
   ]
  },
  {
   "cell_type": "markdown",
   "metadata": {},
   "source": [
    "Implementing systems of ordinary differential equations (ODEs) in python is straightforward. First, a function is created to represent the system inputs and outputs. The inputs of the function are a vector of state variables ${\\vec{w}}$, the independent variable $t$ and a vector of parameters $\\vec{p}$. The output of the function must be the right hand side of the ODE system as a list.\n",
    "\n",
    "Following this approach, the SIR model can be implemented as it follows:\n",
    "\n",
    "$$ \\vec{w} = [S,I,R]$$\n",
    "$$ \\vec{p} = [\\alpha, \\beta] $$\n",
    "\n",
    "And $t$ enters directly. The function return will be the list of ODEs.\n",
    "\n",
    "$$\\vec{f} = \\left[ \\frac{dS}{dt}, \\frac{dI}{dt}, \\frac{dR}{dt} \\right]$$\n",
    "\n",
    "So $\\vec{f} = \\text{sir}(\\vec{w}, t, \\vec{p})$."
   ]
  },
  {
   "cell_type": "markdown",
   "metadata": {},
   "source": [
    "#### Function definition: sir model"
   ]
  },
  {
   "cell_type": "code",
   "execution_count": 2,
   "metadata": {},
   "outputs": [],
   "source": [
    "def sir(w, t, p):\n",
    "    \"\"\" SIR: Simple model of disease spread\n",
    "    inputs:\n",
    "    w: vector of state variables [S,I,R]\n",
    "    S: Fraction of the population susceptible to the infection\n",
    "    I: Fraction on the population infected\n",
    "    R: Fraction of the population recovered\n",
    "    \n",
    "    returns:\n",
    "    f: right hand side of the system of differential equations\n",
    "    \"\"\"\n",
    "    # Unpack state variables\n",
    "    S, I, R = w\n",
    "    # Unpack parameters\n",
    "    alpha, beta = p\n",
    "    dS_dt = -alpha*S*I\n",
    "    dI_dt =  alpha*S*I - beta*I\n",
    "    dR_dt = beta * I\n",
    "    \n",
    "    f = [dS_dt, dI_dt, dR_dt]\n",
    "    return f"
   ]
  },
  {
   "cell_type": "markdown",
   "metadata": {},
   "source": [
    "### Usage example\n",
    "\n",
    "#### Case study\n",
    "\n",
    "The borough of Ealing, in London, is selected arbitrarly as one of the authors is living there at the moment. According to the UK office for National Statistics, the population of Ealing by mid-year 2018 is [342.000](https://www.ealing.gov.uk/info/201048/ealing_facts_and_figures/2184/population_and_households/1). The number of reported infections at 29/03/2020 is 241.\n",
    "\n",
    "#### Model parameters\n",
    "As an implementation examples, the parameter $\\beta$ is estimated from the methodology followed by the [Robert Koch Institut SIRX model webiste](http://rocs.hu-berlin.de/corona/docs/forecast/model/#sir-x-dynamics-outbreaks-with-temporally-increasing-interventions). The institute estimated the a removal rate value $\\beta = 0.38/d$ (mean infections time $T_I = 1/\\beta = 2.6d)$ based on one third of the reported average infections preioud of moderate cases in Mainland China.\n",
    "\n",
    "The reproduction number is fixed $R_0 = \\alpha / \\beta = 2.5$ as a first approximation. \n",
    "\n",
    "Please note that the predictions of this model shouldn't be taken in consideratin, as the SIR model doesn't consider dynamic variation of model parameters, which is observed in reality."
   ]
  },
  {
   "cell_type": "markdown",
   "metadata": {},
   "source": [
    "#### Model inputs"
   ]
  },
  {
   "cell_type": "code",
   "execution_count": 3,
   "metadata": {},
   "outputs": [],
   "source": [
    "# Use Ealing as an example to determine model initial conditions\n",
    "P_Ealing = 342000 # Ealing population ONS 2018 mid year\n",
    "I_Ealing = 241    # Infected people at 29/03/2020\n",
    "R_Ealing = 0      # Recovered people at 29/03/2020\n",
    "n_days = 30\n",
    "\n",
    "# Input parameters\n",
    "beta = 0.38/(3600*24) # Per day\n",
    "alpha = 2.5 * beta # WHO estimate"
   ]
  },
  {
   "cell_type": "markdown",
   "metadata": {},
   "source": [
    "#### Calculate model parameters and initial conditions"
   ]
  },
  {
   "cell_type": "code",
   "execution_count": 4,
   "metadata": {},
   "outputs": [],
   "source": [
    "# Calculate initial conditions in terms of population fraction\n",
    "S0 = (P_Ealing-I_Ealing)/P_Ealing\n",
    "I0 = I_Ealing/P_Ealing\n",
    "R0 = R_Ealing/P_Ealing      # Recovered people\n",
    "\n",
    "# Construct vector of parameters\n",
    "p = [alpha, beta]\n",
    "\n",
    "# Construct vector of initial conditions\n",
    "w0 = [S0, I0, R0]\n",
    "\n",
    "# ODE solver parameters (optional)\n",
    "abserr = 1.0e-8  #\n",
    "relerr = 1.0e-6  #\n",
    "\n",
    "tf = 3600*24*n_days   # Final time in seconds\n",
    "numpoints = n_days+1 #\n",
    "\n",
    "# Create time vector to input to the integrator odeint\n",
    "t = np.linspace(0, tf,numpoints)"
   ]
  },
  {
   "cell_type": "markdown",
   "metadata": {},
   "source": [
    "### Solution"
   ]
  },
  {
   "cell_type": "markdown",
   "metadata": {},
   "source": [
    "The integrating routine *odeint* requires for parameters that were previously defined:\n",
    "\n",
    "* func: function to be integrated. In this case, we defined **sir**\n",
    "* y0: vector of initial conditions of the state variables. In this case, **w0**\n",
    "* t: discrete time-steps where the solutions is going to be evaluated. In this case, **t**\n",
    "* args = (): Extra arguments to pass to function. In our case, is the vector of parameters **p**"
   ]
  },
  {
   "cell_type": "code",
   "execution_count": 5,
   "metadata": {},
   "outputs": [],
   "source": [
    "wsol = odeint(func = sir, y0 = w0, t = t, args=(p,), atol=abserr, rtol=relerr)"
   ]
  },
  {
   "cell_type": "code",
   "execution_count": 6,
   "metadata": {},
   "outputs": [
    {
     "data": {
      "text/plain": [
       "numpy.ndarray"
      ]
     },
     "execution_count": 6,
     "metadata": {},
     "output_type": "execute_result"
    }
   ],
   "source": [
    "type(wsol)"
   ]
  },
  {
   "cell_type": "markdown",
   "metadata": {},
   "source": [
    "## Unpacking the solution\n",
    "wsol is a numpy.ndarray which contains the solution of each state variable. It can be unpacked easily slicing the numpy array."
   ]
  },
  {
   "cell_type": "code",
   "execution_count": 7,
   "metadata": {
    "scrolled": true
   },
   "outputs": [],
   "source": [
    "# Unpack the solution\n",
    "# R = 1.5\n",
    "S = wsol[:,0] \n",
    "I = wsol[:,1]\n",
    "R = wsol[:,2]\n",
    "\n",
    "# Multiply by population size to convert model solutions into number of people\n",
    "\n",
    "S_n = S*P_Ealing\n",
    "I_n = I*P_Ealing\n",
    "R_n = R*P_Ealing"
   ]
  },
  {
   "cell_type": "markdown",
   "metadata": {},
   "source": [
    "### Plotting"
   ]
  },
  {
   "cell_type": "code",
   "execution_count": 8,
   "metadata": {
    "scrolled": true
   },
   "outputs": [
    {
     "data": {
      "image/png": "[encoded data removed]",
      "text/plain": [
       "<Figure size 1080x360 with 3 Axes>"
      ]
     },
     "metadata": {
      "needs_background": "light"
     },
     "output_type": "display_data"
    }
   ],
   "source": [
    "# This visualization is useful and could be packed\n",
    "plt.figure(figsize=[15,5])\n",
    "plt.subplot(1,3,1)\n",
    "plt.plot(t/(3600*24),S_n)\n",
    "plt.xlabel('Days')\n",
    "plt.ylabel(\"Number of people\")\n",
    "plt.title(\"Susceptible\")\n",
    "plt.subplot(1,3,2)\n",
    "plt.plot(t/(3600*24),I_n)\n",
    "plt.xlabel('Days')\n",
    "plt.title(\"Infected\")\n",
    "plt.subplot(1,3,3)\n",
    "plt.plot(t/(3600*24),R_n)\n",
    "plt.title(\"Recovered\")\n",
    "plt.xlabel('Days')\n",
    "plt.show()"
   ]
  },
  {
   "cell_type": "markdown",
   "metadata": {},
   "source": [
    "It can be observed that the SIR model reproduces the all familiar infection bell, as well as the evolution of susceptible and recovered population. It is interesting to observe that if no measures are taken in a $R_0 = 2.5$ scenario, 89% of the Ealing population would be infected in a month."
   ]
  },
  {
   "cell_type": "markdown",
   "metadata": {},
   "source": [
    "### Sensitivity to $R_0$\n",
    "\n",
    "A known weakness of all pandemics prediction model is the sensitivity to their parameters. In the following case study, $R_0$ will be fitted to minimize the mean squared error between the model predictions and UK historical data on the Ealing borough in the time period between the 15th and the 29th of March of 2020."
   ]
  },
  {
   "cell_type": "code",
   "execution_count": 9,
   "metadata": {},
   "outputs": [],
   "source": [
    "# Call the ODE solver.\n",
    "beta = 0.38/(3600*24) # Per day\n",
    "alpha = 1.6 * beta # Reproduction number\n",
    "P_Ealing = 342000 # Ealing population\n",
    "I_Ealing = 8    # Infected people at 15/03/2020\n",
    "\n",
    "S0 = (P_Ealing-I_Ealing)/P_Ealing\n",
    "I0 = I_Ealing/P_Ealing\n",
    "w0 = [S0, I0, R0]\n",
    "p = [alpha,beta]\n",
    "# ODE solver parameters\n",
    "abserr = 1.0e-8  #\n",
    "relerr = 1.0e-6  #\n",
    "n_days = 15\n",
    "tf = 3600*24*n_days   # Final time in seconds\n",
    "numpoints = n_days+1 #\n",
    "\n",
    "t_hist = np.linspace(0, tf,numpoints)\n",
    "# Use Ealing values\n",
    "wsol_hist = odeint(sir, w0, t, args=(p,),\n",
    "              atol=abserr, rtol=relerr)"
   ]
  },
  {
   "cell_type": "markdown",
   "metadata": {},
   "source": [
    "The function compare_infections is defined to obtain the a list of lists of infected people for different combinations of parameters. In the first implementation, it only allows variations to the alpha parameter."
   ]
  },
  {
   "cell_type": "code",
   "execution_count": 10,
   "metadata": {},
   "outputs": [],
   "source": [
    "def compare_infections(w0, t, p, func, alpha_list=2.5, abserr=1e-8, relerr=1e-6):\n",
    "    \"\"\" compare_infections compare SIR model predictions against\n",
    "    a list of alpha values\n",
    "    \n",
    "    Inputs:\n",
    "    w0: Initial conditions\n",
    "    t: Time vector\n",
    "    p: Parameters\n",
    "    alpha_list: list or numpy array of values of alpha to be tested\n",
    "    \n",
    "    Outputs:\n",
    "    S_list: List of predictions for the fraction of susceptible population for each alpha\n",
    "    I_list: List of predictions for the fraction of infected population for each alpha\n",
    "    R_list: List of predictions for the fraction of recovered/removed population for each alpha\n",
    "    \"\"\"\n",
    "    I_list = []\n",
    "    S_list = []\n",
    "    R_list = []\n",
    "    \n",
    "    for i in alpha_list:\n",
    "        # Update parameter list\n",
    "        p[0] = i\n",
    "        print(p)\n",
    "        wsol = odeint(func, w0, t, args=(p,), atol=abserr, rtol=relerr)\n",
    "        S_list.append(wsol[:,0])\n",
    "        I_list.append(wsol[:,1])\n",
    "        R_list.append(wsol[:,2]) \n",
    "    return S_list, I_list, R_list"
   ]
  },
  {
   "cell_type": "markdown",
   "metadata": {},
   "source": [
    "### Generate predictions for each alpha"
   ]
  },
  {
   "cell_type": "code",
   "execution_count": 11,
   "metadata": {},
   "outputs": [
    {
     "name": "stdout",
     "output_type": "stream",
     "text": [
      "[6.597222222222221e-06, 4.398148148148148e-06]\n",
      "[7.037037037037037e-06, 4.398148148148148e-06]\n",
      "[7.476851851851851e-06, 4.398148148148148e-06]\n"
     ]
    }
   ],
   "source": [
    "alpha_list = beta*np.array([1.5,1.6,1.7])\n",
    "S_list, I_list, R_list = compare_infections(w0, t_hist, p, sir, alpha_list)#"
   ]
  },
  {
   "cell_type": "markdown",
   "metadata": {},
   "source": [
    "### Plot again daily data of Ealing borough \n",
    "[sourced from UK Arcgis](https://www.arcgis.com/apps/opsdashboard/index.html#/f94c3c90da5b4e9f9a0b19484dd4bb14)"
   ]
  },
  {
   "cell_type": "code",
   "execution_count": 12,
   "metadata": {},
   "outputs": [
    {
     "data": {
      "image/png": "[encoded data removed]",
      "text/plain": [
       "<Figure size 432x432 with 1 Axes>"
      ]
     },
     "metadata": {
      "needs_background": "light"
     },
     "output_type": "display_data"
    }
   ],
   "source": [
    "# Daily data of Ealing borough sourced from UK\n",
    "Ealing_data = [8, 18, 20, 18, 21, 42, 53, 54, 80, 97, 106, 123, 136, 165, 209, 241] # N_of infected\n",
    "# Convert seconds in days\n",
    "t_days = t_hist/(3600*24)\n",
    "\n",
    "plt.figure(figsize=[6,6])\n",
    "plt.plot(Ealing_data,'o')\n",
    "plt.plot(t_days, I_list[0]*P_Ealing)\n",
    "plt.plot(t_days, I_list[1]*P_Ealing)\n",
    "plt.plot(t_days, I_list[2]*P_Ealing)\n",
    "plt.legend([\"UK Data\",\"SIR, $R_0$ = 1.5\",\"SIR, $R_0$ = 1.6\",\"SIR, $R_0$ = 1.7\"])\n",
    "plt.title(\"15 days prediction for Ealing using SIR since 13/03\")\n",
    "plt.ylabel(\"Number of people infected\")\n",
    "plt.xlabel(\"Day\")\n",
    "plt.xlim([min(t_days),max(t_days)])\n",
    "plt.show()"
   ]
  },
  {
   "cell_type": "markdown",
   "metadata": {},
   "source": [
    "The model is extremely sensitive to the reproduction rate parameter $R_0$."
   ]
  },
  {
   "cell_type": "markdown",
   "metadata": {},
   "source": [
    "### Fitting $R_0$\n",
    "\n",
    "In the following case study, $R_0$ will be fitted to minimize the mean squared error between the model predictions and UK historical data on the Ealing borough in the time period between the 15th and the 29th of March of 2020.\n",
    "\n",
    "# To be completed"
   ]
  },
  {
   "cell_type": "markdown",
   "metadata": {},
   "source": [
    "### SIR-X model"
   ]
  },
  {
   "cell_type": "markdown",
   "metadata": {},
   "source": [
    "A new epidemic model based in SIR, SIRX, was developed by the [Robert Koch Institut](http://rocs.hu-berlin.de/corona/docs/forecast/model/#sir-x-dynamics-outbreaks-with-temporally-increasing-interventions) and is implemented in what follows. A full description of the model is available in the [Robert Koch Institut SIRX model webiste](http://rocs.hu-berlin.de/corona/docs/forecast/model/#sir-x-dynamics-outbreaks-with-temporally-increasing-interventions)\n"
   ]
  },
  {
   "cell_type": "code",
   "execution_count": 13,
   "metadata": {},
   "outputs": [],
   "source": [
    "def sirx(w, t, p):\n",
    "    \"\"\" SIR-X: Dynamic outbreaks with temporally increasing\n",
    "    interventions\n",
    "    \n",
    "    inputs:\n",
    "    w: vector of state variables [S,I,R,X]\n",
    "    where \n",
    "        S: Fraction of the population susceptible to the infection\n",
    "        I: Fraction on the population infected\n",
    "        R: Fraction of the population that recovered\n",
    "        X: Fraction of the population that is quarantined\n",
    "        \n",
    "    t: time\n",
    "    p: vector of parameters\n",
    "    \n",
    "    returns:\n",
    "    f: right hand side of the system of differential equations\n",
    "    \"\"\"\n",
    "    # Unpack state variables\n",
    "    S, I, R, X = w\n",
    "    # Unpack parameters\n",
    "    alpha, beta, kappa_0, kappa = p\n",
    "    dS_dt = -alpha*S*I - kappa_0*S\n",
    "    dI_dt =  alpha*S*I - beta*I - kappa_0*I - kappa*I\n",
    "    dR_dt = kappa_0*S + beta * I\n",
    "    dX_dt = (kappa_0 + kappa) * I\n",
    "    \n",
    "    \n",
    "    f = [dS_dt, dI_dt, dR_dt, dX_dt]\n",
    "    return f"
   ]
  }
 ],
 "metadata": {
  "kernelspec": {
   "display_name": "Python 3",
   "language": "python",
   "name": "python3"
  },
  "language_info": {
   "codemirror_mode": {
    "name": "ipython",
    "version": 3
   },
   "file_extension": ".py",
   "mimetype": "text/x-python",
   "name": "python",
   "nbconvert_exporter": "python",
   "pygments_lexer": "ipython3",
   "version": "3.7.3"
  }
 },
 "nbformat": 4,
 "nbformat_minor": 2
}
