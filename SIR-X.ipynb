{
 "cells": [
  {
   "cell_type": "markdown",
   "metadata": {},
   "source": [
    "## SIR-X\n",
    "\n",
    "Coronavirus COVID-19 is a pandemic that is spreading quickly worlwide. Up to the 29th of March, there are 666,211 cases confirmed, 30,864 deaths and 141,789 recovered people worldwide. Governments and citizens are taking quick decisions to limit the spread of the virus and minimize the number of infected and deaths. These decisions are taken based on the experts opinion, which justify their claims based in the results of predictive models.\n",
    "\n",
    "\n",
    "This Jupyter Notebook is an effort to decrease the access barriers to state of the art yet simple models that can be used to take public policy decisions to limit disease spread and save lives. \n",
    "\n",
    "### SIR model\n",
    "\n",
    "Most epidemic models share a common approach on modelling the spread of a disease. The SIR model is a simple deterministic compartmental model to predict disease spread. An objective population is divided in three groups: the susceptible ($S$), the infected ($I$) and the recovered or removed ($R$). These quantities enter the model as fractions of the total population $P$:\n",
    "\n",
    "\n",
    "$$ S = \\frac{\\text{Number of susceptible individuals}}{\\text{Population size}}$$\n",
    "\n",
    "$$ I = \\frac{\\text{Number of infected individuals}}{\\text{Population size}}$$\n",
    "\n",
    "$$ R = \\frac{\\text{Number of recovered or removed individuals}}{\\text{Population size}}$$\n",
    "\n",
    "As a pandemics infects and kills much more quickly than human natural rates of birth and death, the population size is assumed constant except for the individuals that recover or die. Hence, $S+I+R=P/P=1$. The pandemics dynamics is modelled as a system of ordinary differential equations which governs the rate of change at which the percentage of susceptible, infected and recovered/removed individuals in a population evolve.\n",
    "\n",
    "The number of possible transmissions is proportional to the number of interactions between the susceptible and infected populations, $S \\times I $:\n",
    "\n",
    "$$\\frac{dS}{dt} = -\\alpha SI.$$\n",
    "\n",
    "Where $\\alpha$ is the reproduction rate of the process which quantifies how many of the interactions between susceptible and infected populations yield to new infections per day.\n",
    "\n",
    "The population of infected individuals will increase with new infections and decrease with recovered or removed people. \n",
    "\n",
    "$$\\frac{dI}{dt} = \\alpha S I  - \\beta I, $$\n",
    "$$\\frac{dR}{dt} = \\beta I. $$\n",
    "\n",
    "Where $ \\beta $ is the percentage of the infected population that is removed from the transmission process per day.\n",
    "\n",
    "In early stages of the infection, the number of infected people is much lower than the susceptible populations. Hence, $S \\approx 1$ making $dI/dt$ linear and the system has the analytical solution $I(t) = I_0 \\exp (\\alpha - \\beta)t$.\n",
    "\n"
   ]
  },
  {
   "cell_type": "markdown",
   "metadata": {},
   "source": [
    "#### Numerical implementation - SIR model\n",
    "\n",
    "Three python packages are imported: numpy for numerical computing, matplotlib.pyplot for visualization and the numerical integration routine odeint from scipy.integrate:"
   ]
  },
  {
   "cell_type": "code",
   "execution_count": 1,
   "metadata": {},
   "outputs": [],
   "source": [
    "import numpy as np # Numerical computing\n",
    "import matplotlib.pyplot as plt # Visualization\n",
    "from scipy.integrate import odeint # ODE system numerical integrator\n",
    "from scipy.optimize import curve_fit # Minimize squared errors using LM method"
   ]
  },
  {
   "cell_type": "markdown",
   "metadata": {},
   "source": [
    "Implementing systems of ordinary differential equations (ODEs) in python is straightforward. First, a function is created to represent the system inputs and outputs. The inputs of the function are a vector of state variables ${\\vec{w}}$, the independent variable $t$ and a vector of parameters $\\vec{p}$. The output of the function must be the right hand side of the ODE system as a list.\n",
    "\n",
    "Following this approach, the SIR model can be implemented as it follows:\n",
    "\n",
    "$$ \\vec{w} = [S,I,R]$$\n",
    "$$ \\vec{p} = [\\alpha, \\beta] $$\n",
    "\n",
    "And $t$ enters directly. The function return will be the list of ODEs.\n",
    "\n",
    "$$\\vec{f} = \\left[ \\frac{dS}{dt}, \\frac{dI}{dt}, \\frac{dR}{dt} \\right]$$\n",
    "\n",
    "So $\\vec{f} = \\text{sir}(\\vec{w}, t, \\vec{p})$."
   ]
  },
  {
   "cell_type": "markdown",
   "metadata": {},
   "source": [
    "#### Function definition: sir model"
   ]
  },
  {
   "cell_type": "code",
   "execution_count": 2,
   "metadata": {},
   "outputs": [],
   "source": [
    "def sir(w, t, p):\n",
    "    \"\"\" SIR: Simple model of disease spread\n",
    "    inputs:\n",
    "    w: vector of state variables [S,I,R]\n",
    "    S: Fraction of the population susceptible to the infection\n",
    "    I: Fraction on the population infected\n",
    "    R: Fraction of the population recovered\n",
    "    \n",
    "    returns:\n",
    "    f: right hand side of the system of differential equations\n",
    "    \"\"\"\n",
    "    # Unpack state variables\n",
    "    S, I, R = w\n",
    "    # Unpack parameters\n",
    "    alpha, beta = p\n",
    "    dS_dt = -alpha*S*I\n",
    "    dI_dt =  alpha*S*I - beta*I\n",
    "    dR_dt = beta * I\n",
    "    \n",
    "    f = [dS_dt, dI_dt, dR_dt]\n",
    "    return f"
   ]
  },
  {
   "cell_type": "markdown",
   "metadata": {},
   "source": [
    "### Usage example\n",
    "\n",
    "#### Case study\n",
    "\n",
    "The borough of Ealing, in London, is selected arbitrarly as one of the authors is living there at the moment. According to the UK office for National Statistics, the population of Ealing by mid-year 2018 is [342.000](https://www.ealing.gov.uk/info/201048/ealing_facts_and_figures/2184/population_and_households/1). The number of reported infections at 29/03/2020 is 241.\n",
    "\n",
    "#### Model parameters\n",
    "As an implementation examples, the parameter $\\beta$ is estimated from the methodology followed by the [Robert Koch Institut SIRX model webiste](http://rocs.hu-berlin.de/corona/docs/forecast/model/#sir-x-dynamics-outbreaks-with-temporally-increasing-interventions). The institute estimated the a removal rate value $\\beta = 0.38/d$ (mean infections time $T_I = 1/\\beta = 2.6d)$ based on one third of the reported average infections preioud of moderate cases in Mainland China.\n",
    "\n",
    "The reproduction number is fixed $R_0 = \\alpha / \\beta = 2.5$ as a first approximation. \n",
    "\n",
    "Please note that the predictions of this model shouldn't be taken in consideratin, as the SIR model doesn't consider dynamic variation of model parameters, which is observed in reality."
   ]
  },
  {
   "cell_type": "markdown",
   "metadata": {},
   "source": [
    "#### Model inputs"
   ]
  },
  {
   "cell_type": "code",
   "execution_count": 105,
   "metadata": {},
   "outputs": [],
   "source": [
    "# Use Ealing as an example to determine model initial conditions\n",
    "P_Ealing = 342000 # Ealing population ONS 2018 mid year\n",
    "I_Ealing = 8    # Infected people at 29/03/2020\n",
    "R_Ealing = 0      # Recovered people at 29/03/2020\n",
    "n_days = 30\n",
    "\n",
    "# Input parameters\n",
    "beta = 0.38/(3600*24) # Per day\n",
    "alpha = 2.5 * beta # WHO estimate"
   ]
  },
  {
   "cell_type": "markdown",
   "metadata": {},
   "source": [
    "#### Calculate model parameters and initial conditions"
   ]
  },
  {
   "cell_type": "code",
   "execution_count": 106,
   "metadata": {},
   "outputs": [],
   "source": [
    "# Calculate initial conditions in terms of population fraction\n",
    "S0 = (P_Ealing-I_Ealing)/P_Ealing\n",
    "I0 = I_Ealing/P_Ealing\n",
    "R0 = R_Ealing/P_Ealing      # Recovered people\n",
    "\n",
    "# Construct vector of parameters\n",
    "p = [alpha, beta]\n",
    "\n",
    "# Construct vector of initial conditions\n",
    "w0 = [S0, I0, R0]\n",
    "\n",
    "# ODE solver parameters (optional)\n",
    "abserr = 1.0e-8  #\n",
    "relerr = 1.0e-6  #\n",
    "\n",
    "tf = 3600*24*n_days   # Final time in seconds\n",
    "numpoints = n_days+1 #\n",
    "\n",
    "# Create time vector to input to the integrator odeint\n",
    "t = np.linspace(0, tf,numpoints)"
   ]
  },
  {
   "cell_type": "markdown",
   "metadata": {},
   "source": [
    "### Solution"
   ]
  },
  {
   "cell_type": "markdown",
   "metadata": {},
   "source": [
    "The integrating routine *odeint* requires for parameters that were previously defined:\n",
    "\n",
    "* func: function to be integrated. In this case, we defined **sir**\n",
    "* y0: vector of initial conditions of the state variables. In this case, **w0**\n",
    "* t: discrete time-steps where the solutions is going to be evaluated. In this case, **t**\n",
    "* args = (): Extra arguments to pass to function. In our case, is the vector of parameters **p**"
   ]
  },
  {
   "cell_type": "code",
   "execution_count": 107,
   "metadata": {},
   "outputs": [],
   "source": [
    "wsol = odeint(func = sir, y0 = w0, t = t, args=(p,), atol=abserr, rtol=relerr)"
   ]
  },
  {
   "cell_type": "code",
   "execution_count": 108,
   "metadata": {
    "scrolled": true
   },
   "outputs": [
    {
     "data": {
      "text/plain": [
       "numpy.ndarray"
      ]
     },
     "execution_count": 108,
     "metadata": {},
     "output_type": "execute_result"
    }
   ],
   "source": [
    "type(wsol)"
   ]
  },
  {
   "cell_type": "markdown",
   "metadata": {},
   "source": [
    "### Pseudoclase\n",
    "### class model\n",
    "model.fit(data\n",
    "model.solve\n",
    "model.plot\n"
   ]
  },
  {
   "cell_type": "code",
   "execution_count": 131,
   "metadata": {},
   "outputs": [],
   "source": [
    "import model\n",
    "from model import _solve #?\n",
    "\n",
    "class Model:\n",
    "    \n",
    "    def __init__(self, p, w0):\n",
    "        self.setmodel()\n",
    "        self.p = p\n",
    "        self.w0 = w0\n",
    "        \n",
    "    def chupalo(self):\n",
    "        print(\"chupalo\")\n",
    "    \n",
    "    def solve(self, tf_secs, numpoints):\n",
    "        tspan = np.linspace(0,tf_secs,numpoints)\n",
    "        \n",
    "        a = _solve(self.func, self.p, self.w0,\n",
    "                     tspan, numpoints)\n",
    "        print(a)\n",
    "        return a\n",
    "    \n",
    "    @property\n",
    "    def R_0(self):\n",
    "        \"\"\" Returns reproduction number\n",
    "        R_0 = alpha/beta\"\"\"\n",
    "        return self.p[0]/self.p[1]\n",
    "    \n",
    "    def fit(self, t_obs, n_I_obs, population, inplace=False):\n",
    "        \"\"\" Use the Levenberg-Marquardt algorithm to fit\n",
    "        the parameter alpha, as beta is assumed constant\n",
    "        \n",
    "        inputs:\n",
    "        t_obs: Vector of days corresponding to the observations of number of infected people\n",
    "        n_I_obs: Vector of number of infected people\n",
    "        population: Size of the objective population\n",
    "        \n",
    "        Returns\n",
    "        \"\"\"\n",
    "        secs_obs = t_obs*3600*24\n",
    "        \n",
    "        def function_handle(t, alpha, beta = self.p[1], population=population):\n",
    "            p = [alpha,beta]\n",
    "            I_mod = _solve(self.func, p, self.w0,\n",
    "                           t, numpoints=len(t_obs))\n",
    "            n_I_mod = I_mod[:,1]*population\n",
    "            return n_I_mod\n",
    "        \n",
    "        # Fit alpha\n",
    "        alpha_opt, pcov = curve_fit(f = function_handle,\n",
    "                        xdata = secs_obs, ydata = n_I_obs, p0=alpha)\n",
    "        p_new = [i for i in self.p] \n",
    "        p_new[0] = alpha_opt[0]\n",
    "        self.p=p_new\n",
    "        return \n",
    "        # return p_new, pcov\n",
    "            \n",
    "    pass\n",
    "\n",
    "class SIR(Model):\n",
    "    def setmodel(self):\n",
    "        self.func = model.sir\n",
    "    pass\n",
    "\n",
    "class SIRX(Model):\n",
    "    def setmodel(self):\n",
    "        self.func = model.sirx\n",
    "    pass"
   ]
  },
  {
   "cell_type": "markdown",
   "metadata": {},
   "source": [
    "### Test model parameter utility"
   ]
  },
  {
   "cell_type": "code",
   "execution_count": 132,
   "metadata": {},
   "outputs": [],
   "source": [
    "Ealing_data = [8, 18, 20, 18, 21, 42, 53, 54, 80, 97, 106, 123, 136, 165, 209, 241] # N_of infected\n",
    "t_span = np.linspace(0,len(Ealing_data)-1,len(Ealing_data))"
   ]
  },
  {
   "cell_type": "code",
   "execution_count": 133,
   "metadata": {},
   "outputs": [],
   "source": [
    "# Create SIR with default parameters\n",
    "my_SIR = SIR(p,w0)"
   ]
  },
  {
   "cell_type": "code",
   "execution_count": 134,
   "metadata": {},
   "outputs": [],
   "source": [
    "# Fit parameters\n",
    "my_SIR.fit(t_span, Ealing_data, P_Ealing)"
   ]
  },
  {
   "cell_type": "code",
   "execution_count": 137,
   "metadata": {},
   "outputs": [
    {
     "name": "stdout",
     "output_type": "stream",
     "text": [
      "[[9.99976608e-01 2.33918129e-05 0.00000000e+00]\n",
      " [9.99959814e-01 2.97794470e-05 1.04067315e-05]\n",
      " [9.99938443e-01 3.79074651e-05 2.36495609e-05]\n",
      " [9.99911242e-01 4.82526436e-05 4.05058467e-05]\n",
      " [9.99876614e-01 6.14215090e-05 6.19647586e-05]\n",
      " [9.99832548e-01 7.81786820e-05 8.92737027e-05]\n",
      " [9.99776472e-01 9.95010144e-05 1.24026998e-04]\n",
      " [9.99705101e-01 1.26636439e-04 1.68262487e-04]\n",
      " [9.99614274e-01 1.61164733e-04 2.24561673e-04]\n",
      " [9.99498698e-01 2.05093544e-04 2.96208092e-04]\n",
      " [9.99351650e-01 2.60973069e-04 3.87377230e-04]\n",
      " [9.99164585e-01 3.32039461e-04 5.03375192e-04]\n",
      " [9.98926649e-01 4.22400792e-04 6.50949892e-04]\n",
      " [9.98624058e-01 5.37265397e-04 8.38676261e-04]\n",
      " [9.98239357e-01 6.83217123e-04 1.07742570e-03]\n",
      " [9.97750434e-01 8.68576796e-04 1.38098936e-03]\n",
      " [9.97129319e-01 1.10383805e-03 1.76684311e-03]\n",
      " [9.96340711e-01 1.40219462e-03 2.25709391e-03]\n",
      " [9.95340130e-01 1.78018909e-03 2.87968095e-03]\n",
      " [9.94071720e-01 2.25846197e-03 3.66981783e-03]\n",
      " [9.92465591e-01 2.86262877e-03 4.67177988e-03]\n",
      " [9.90434699e-01 3.62425152e-03 5.94104920e-03]\n",
      " [9.87871297e-01 4.58185429e-03 7.54684911e-03]\n",
      " [9.84643039e-01 5.78188565e-03 9.57507536e-03]\n",
      " [9.80588988e-01 7.27944615e-03 1.21315656e-02]\n",
      " [9.75515947e-01 9.13848958e-03 1.53455630e-02]\n",
      " [9.69195822e-01 1.14310816e-02 1.93730965e-02]\n",
      " [9.61365278e-01 1.42349794e-02 2.43997430e-02]\n",
      " [9.51728958e-01 1.76289792e-02 3.06420632e-02]\n",
      " [9.39968557e-01 2.16848991e-02 3.83465436e-02]]\n"
     ]
    },
    {
     "data": {
      "text/plain": [
       "[<matplotlib.lines.Line2D at 0x7f4d3c134eb8>]"
      ]
     },
     "execution_count": 137,
     "metadata": {},
     "output_type": "execute_result"
    },
    {
     "data": {
      "image/png": "[encoded data removed]",
      "text/plain": [
       "<Figure size 432x288 with 1 Axes>"
      ]
     },
     "metadata": {
      "needs_background": "light"
     },
     "output_type": "display_data"
    }
   ],
   "source": [
    "# Predict\n",
    "sol = my_SIR.solve(30*3600*24, 30)\n",
    "plt.plot(np.linspace(0,29,30),sol[:,1])"
   ]
  },
  {
   "cell_type": "code",
   "execution_count": null,
   "metadata": {},
   "outputs": [],
   "source": []
  },
  {
   "cell_type": "code",
   "execution_count": 130,
   "metadata": {},
   "outputs": [
    {
     "data": {
      "text/plain": [
       "[7.09795049594579e-06, 4.398148148148148e-06]"
      ]
     },
     "execution_count": 130,
     "metadata": {},
     "output_type": "execute_result"
    }
   ],
   "source": [
    "my_SIR.p"
   ]
  },
  {
   "cell_type": "code",
   "execution_count": 114,
   "metadata": {},
   "outputs": [],
   "source": [
    "my_SIR2 = SIR(p_new,w0)"
   ]
  },
  {
   "cell_type": "code",
   "execution_count": 124,
   "metadata": {
    "scrolled": true
   },
   "outputs": [
    {
     "name": "stdout",
     "output_type": "stream",
     "text": [
      "[[9.99976608e-01 2.33918129e-05 0.00000000e+00]\n",
      " [9.99959134e-01 3.00380915e-05 1.08281255e-05]\n",
      " [9.99936711e-01 3.85662789e-05 2.47229863e-05]\n",
      " [9.99907918e-01 4.95164244e-05 4.25651159e-05]\n",
      " [9.99870950e-01 6.35755001e-05 6.54749132e-05]\n",
      " [9.99823500e-01 8.16192123e-05 9.48810807e-05]\n",
      " [9.99762593e-01 1.04778125e-04 1.32628962e-04]\n",
      " [9.99684403e-01 1.34505418e-04 1.81091859e-04]\n",
      " [9.99584041e-01 1.72656530e-04 2.43302307e-04]\n",
      " [9.99455234e-01 2.21611830e-04 3.23154510e-04]\n",
      " [9.99289942e-01 2.84418335e-04 4.25639419e-04]\n",
      " [9.99077869e-01 3.64975847e-04 5.57154944e-04]\n",
      " [9.98805807e-01 4.68279833e-04 7.25913334e-04]\n",
      " [9.98456879e-01 6.00702745e-04 9.42418000e-04]\n",
      " [9.98009519e-01 7.70371361e-04 1.22010931e-03]]\n"
     ]
    }
   ],
   "source": [
    "sol = my_SIR2.solve(t_span[-1]*3600*24, 15)"
   ]
  },
  {
   "cell_type": "markdown",
   "metadata": {},
   "source": [
    "## Unpacking the solution\n",
    "wsol is a numpy.ndarray which contains the solution of each state variable. It can be unpacked easily slicing the numpy array."
   ]
  },
  {
   "cell_type": "code",
   "execution_count": null,
   "metadata": {
    "scrolled": true
   },
   "outputs": [],
   "source": [
    "# Unpack the solution\n",
    "# R = 1.5\n",
    "S = wsol[:,0] \n",
    "I = wsol[:,1]\n",
    "R = wsol[:,2]\n",
    "\n",
    "# Multiply by population size to convert model solutions into number of people\n",
    "\n",
    "S_n = S*P_Ealing\n",
    "I_n = I*P_Ealing\n",
    "R_n = R*P_Ealing"
   ]
  },
  {
   "cell_type": "markdown",
   "metadata": {},
   "source": [
    "### Plotting"
   ]
  },
  {
   "cell_type": "markdown",
   "metadata": {},
   "source": [
    "### Don't make this plot a function"
   ]
  },
  {
   "cell_type": "code",
   "execution_count": null,
   "metadata": {
    "scrolled": true
   },
   "outputs": [],
   "source": [
    "# This visualization is useful and could be packed\n",
    "plt.figure(figsize=[15,5])\n",
    "plt.subplot(1,3,1)\n",
    "plt.plot(t/(3600*24),S_n)\n",
    "plt.xlabel('Days')\n",
    "plt.ylabel(\"Number of people\")\n",
    "plt.title(\"Susceptible\")\n",
    "plt.subplot(1,3,2)\n",
    "plt.plot(t/(3600*24),I_n)\n",
    "plt.xlabel('Days')\n",
    "plt.title(\"Infected\")\n",
    "plt.subplot(1,3,3)\n",
    "plt.plot(t/(3600*24),R_n)\n",
    "plt.title(\"Recovered\")\n",
    "plt.xlabel('Days')\n",
    "plt.show()"
   ]
  },
  {
   "cell_type": "markdown",
   "metadata": {},
   "source": [
    "It can be observed that the SIR model reproduces the all familiar infection bell, as well as the evolution of susceptible and recovered population. It is interesting to observe that if no measures are taken in a $R_0 = 2.5$ scenario, 89% of the Ealing population would be infected in a month."
   ]
  },
  {
   "cell_type": "markdown",
   "metadata": {},
   "source": [
    "### Sensitivity to $R_0$\n",
    "\n",
    "A known weakness of all pandemics prediction model is the sensitivity to their parameters. In the following case study, $R_0$ will be fitted to minimize the mean squared error between the model predictions and UK historical data on the Ealing borough in the time period between the 15th and the 29th of March of 2020."
   ]
  },
  {
   "cell_type": "code",
   "execution_count": null,
   "metadata": {},
   "outputs": [],
   "source": [
    "# Call the ODE solver.\n",
    "beta = 0.38/(3600*24) # Per day\n",
    "alpha = 1.6 * beta # Reproduction number\n",
    "P_Ealing = 342000 # Ealing population\n",
    "I_Ealing = 8    # Infected people at 15/03/2020\n",
    "\n",
    "S0 = (P_Ealing-I_Ealing)/P_Ealing\n",
    "I0 = I_Ealing/P_Ealing\n",
    "w0 = [S0, I0, R0]\n",
    "p = [alpha,beta]\n",
    "# ODE solver parameters\n",
    "abserr = 1.0e-8  #\n",
    "relerr = 1.0e-6  #\n",
    "n_days = 15\n",
    "tf = 3600*24*n_days   # Final time in seconds\n",
    "numpoints = n_days+1 #\n",
    "\n",
    "t_hist = np.linspace(0, tf,numpoints)\n",
    "# Use Ealing values\n",
    "wsol_hist = odeint(sir, w0, t, args=(p,),\n",
    "              atol=abserr, rtol=relerr)"
   ]
  },
  {
   "cell_type": "markdown",
   "metadata": {},
   "source": [
    "The function compare_infections is defined to obtain the a list of lists of infected people for different combinations of parameters. In the first implementation, it only allows variations to the alpha parameter."
   ]
  },
  {
   "cell_type": "code",
   "execution_count": null,
   "metadata": {},
   "outputs": [],
   "source": [
    "def compare_infections(w0, t, p, func, alpha_list=2.5, abserr=1e-8, relerr=1e-6):\n",
    "    \"\"\" compare_infections compare SIR model predictions against\n",
    "    a list of alpha values\n",
    "    \n",
    "    Inputs:\n",
    "    w0: Initial conditions\n",
    "    t: Time vector\n",
    "    p: Parameters\n",
    "    alpha_list: list or numpy array of values of alpha to be tested\n",
    "    \n",
    "    Outputs:\n",
    "    S_list: List of predictions for the fraction of susceptible population for each alpha\n",
    "    I_list: List of predictions for the fraction of infected population for each alpha\n",
    "    R_list: List of predictions for the fraction of recovered/removed population for each alpha\n",
    "    \"\"\"\n",
    "    I_list = []\n",
    "    S_list = []\n",
    "    R_list = []\n",
    "    \n",
    "    for i in alpha_list:\n",
    "        # Update parameter list\n",
    "        p[0] = i\n",
    "        print(p)\n",
    "        wsol = odeint(func, w0, t, args=(p,), atol=abserr, rtol=relerr)\n",
    "        S_list.append(wsol[:,0])\n",
    "        I_list.append(wsol[:,1])\n",
    "        R_list.append(wsol[:,2]) \n",
    "    return S_list, I_list, R_list"
   ]
  },
  {
   "cell_type": "markdown",
   "metadata": {},
   "source": [
    "### Generate predictions for each alpha"
   ]
  },
  {
   "cell_type": "code",
   "execution_count": null,
   "metadata": {},
   "outputs": [],
   "source": [
    "alpha_list = beta*np.array([1.5,1.6,1.7])\n",
    "S_list, I_list, R_list = compare_infections(w0, t_hist, p, sir, alpha_list)#"
   ]
  },
  {
   "cell_type": "markdown",
   "metadata": {},
   "source": [
    "### Plot again daily data of Ealing borough \n",
    "[sourced from UK Arcgis](https://www.arcgis.com/apps/opsdashboard/index.html#/f94c3c90da5b4e9f9a0b19484dd4bb14)"
   ]
  },
  {
   "cell_type": "code",
   "execution_count": null,
   "metadata": {},
   "outputs": [],
   "source": [
    "# Daily data of Ealing borough sourced from UK\n",
    "Ealing_data = [8, 18, 20, 18, 21, 42, 53, 54, 80, 97, 106, 123, 136, 165, 209, 241] # N_of infected\n",
    "# Convert seconds in days\n",
    "t_days = t_hist/(3600*24)\n",
    "\n",
    "plt.figure(figsize=[6,6])\n",
    "plt.plot(Ealing_data,'o')\n",
    "plt.plot(t_days, I_list[0]*P_Ealing)\n",
    "plt.plot(t_days, I_list[1]*P_Ealing)\n",
    "plt.plot(t_days, I_list[2]*P_Ealing)\n",
    "plt.legend([\"UK Data\",\"SIR, $R_0$ = 1.5\",\"SIR, $R_0$ = 1.6\",\"SIR, $R_0$ = 1.7\"])\n",
    "plt.title(\"15 days prediction for Ealing using SIR since 13/03\")\n",
    "plt.ylabel(\"Number of people infected\")\n",
    "plt.xlabel(\"Day\")\n",
    "plt.xlim([min(t_days),max(t_days)])\n",
    "plt.show()"
   ]
  },
  {
   "cell_type": "markdown",
   "metadata": {},
   "source": [
    "The model is extremely sensitive to the reproduction rate parameter $R_0$."
   ]
  },
  {
   "cell_type": "markdown",
   "metadata": {},
   "source": [
    "### Parameter Fitting \n",
    "Fitting $R_0$ through $\\alpha$ keeping $\\beta$ constant\n",
    "\n",
    "In the following case study, $R_0$ will be fitted to minimize the mean squared error between the model predictions and UK historical data on the Ealing borough in the time period between the 15th and the 29th of March of 2020.\n"
   ]
  },
  {
   "cell_type": "code",
   "execution_count": null,
   "metadata": {},
   "outputs": [],
   "source": [
    "?curve_fit"
   ]
  },
  {
   "cell_type": "code",
   "execution_count": null,
   "metadata": {},
   "outputs": [],
   "source": [
    "# We will create a function which gives the number of infected\n",
    "# Over observed time data\n",
    "\n",
    "t_obs = np.linspace(0,15*3600*24,16)\n",
    "beta_0 = beta\n",
    "# beta is passed as a keyword argument\n",
    "\n",
    "S0 = (P_Ealing-I_Ealing)/P_Ealing\n",
    "I0 = I_Ealing/P_Ealing\n",
    "w0 = [S0, I0, R0]\n",
    "p = [alpha,beta]\n",
    "def SIR_infected(t_obs, alpha, beta=beta_0, popsize=P_Ealing):\n",
    "    p = [alpha, beta]\n",
    "    wsol_hist = odeint(sir, w0, t_obs, args=(p,),\n",
    "              atol=1e-8, rtol=1e-6)\n",
    "    I = wsol_hist[:,1]*popsize\n",
    "    return I\n",
    "\n",
    "# Try to fit alpha\n",
    "alpha_opt, pcov = curve_fit(f = SIR_infected, xdata = t_obs[:4],\n",
    "                 ydata = Ealing_data[:4], p0=alpha)\n",
    "                \n",
    "\n",
    "I_opt = SIR_infected(t_obs,alpha_opt)\n",
    "R_opt = alpha_opt/beta # \n",
    "\n",
    "plt.figure(figsize=[6,6])\n",
    "plt.plot(Ealing_data,'o')\n",
    "plt.plot(t_days, I_opt)\n",
    "plt.legend([\"UK Data\",\"SIR, $R_{0,opt}$ = %.2f\"%(alpha_opt/beta_0)])\n",
    "plt.title(\"15 days prediction for Ealing using SIR since 13/03\")\n",
    "plt.ylabel(\"Number of people infected\")\n",
    "plt.xlabel(\"Day\")\n",
    "plt.xlim([min(t_days),max(t_days)])\n",
    "plt.show()"
   ]
  },
  {
   "cell_type": "markdown",
   "metadata": {},
   "source": [
    "### UK data"
   ]
  },
  {
   "cell_type": "code",
   "execution_count": null,
   "metadata": {},
   "outputs": [],
   "source": [
    "P_UK = 67886011\n",
    "\n",
    "I_UK= [3269, 3983, 5018, 5683, 6650, 8077, 9529, 11658, 14543, 17089]\n",
    "t_d = np.linspace(0,9,10)\n",
    "t_s = t_d*3600*24\n",
    "\n",
    "S0 = (P_UK-I_UK[0])/P_UK\n",
    "I0 = I_UK[0]/P_UK\n",
    "w0 = [S0, I0, R0]\n",
    "p = [alpha,beta]\n",
    "\n",
    "lag = 6\n",
    "\n",
    "def SIR_infected(t_obs, alpha, beta=beta_0, popsize=P_UK):\n",
    "    p = [alpha, beta]\n",
    "    wsol_hist = odeint(sir, w0, t_obs, args=(p,),\n",
    "              atol=1e-8, rtol=1e-6)\n",
    "    I = wsol_hist[:,1]*popsize\n",
    "    return I\n",
    "\n",
    "# Try to fit alpha\n",
    "alpha_opt, pcov = curve_fit(f = SIR_infected, xdata = t_s[:-lag],\n",
    "                 ydata = I_UK[:-lag], p0=alpha)\n",
    "\n",
    "I_opt = SIR_infected(t_s,alpha_opt)\n",
    "R_opt = alpha_opt/beta # \n",
    "\n",
    "plt.figure(figsize=[6,6])\n",
    "plt.plot(t_d,I_UK,'o')\n",
    "plt.plot(t_d, I_opt)\n",
    "plt.legend([\"UK Data\",\"SIR, $R_{0,opt}$ = %.2f\"%(alpha_opt/beta_0)])\n",
    "plt.title(\"15 days prediction for Ealing using SIR since 13/03\")\n",
    "plt.ylabel(\"Number of people infected\")\n",
    "plt.xlabel(\"Day\")\n",
    "plt.xlim([min(t_d),max(t_d)])\n",
    "plt.show()\n",
    "\n",
    "I_UK-I_opt\n",
    "MSE = sum(np.sqrt((I_opt-I_UK)**2))/len(I_UK)        \n",
    "print(\"Mean squared error on the predictions %.2f\" % MSE)"
   ]
  },
  {
   "cell_type": "code",
   "execution_count": null,
   "metadata": {},
   "outputs": [],
   "source": [
    "(I_opt-I_UK)"
   ]
  },
  {
   "cell_type": "code",
   "execution_count": null,
   "metadata": {
    "scrolled": true
   },
   "outputs": [],
   "source": [
    "plt.plot(t_d,I_UK,'o')"
   ]
  },
  {
   "cell_type": "code",
   "execution_count": null,
   "metadata": {},
   "outputs": [],
   "source": [
    "t_obs"
   ]
  },
  {
   "cell_type": "code",
   "execution_count": null,
   "metadata": {},
   "outputs": [],
   "source": [
    "t_obs_2 = np.linspace(0,16*3600*24,17)\n",
    "I_opt = SIR_infected(t_obs_2,alpha_opt)"
   ]
  },
  {
   "cell_type": "code",
   "execution_count": null,
   "metadata": {},
   "outputs": [],
   "source": [
    "I_opt[-2:]"
   ]
  },
  {
   "cell_type": "code",
   "execution_count": null,
   "metadata": {},
   "outputs": [],
   "source": [
    "I_opt[-1:]"
   ]
  },
  {
   "cell_type": "code",
   "execution_count": null,
   "metadata": {},
   "outputs": [],
   "source": [
    "# 1 standard deviation errors on the parameter\n",
    "perr = np.sqrt(np.diag(pcov))\n",
    "print(perr)\n",
    "MSE = sum(np.sqrt((I_opt-Ealing_data)**2))/len(I_opt)        \n",
    "print(\"Mean squared error on the predictions %.2f\" % MSE)"
   ]
  },
  {
   "cell_type": "code",
   "execution_count": null,
   "metadata": {},
   "outputs": [],
   "source": [
    "print(Ealing_data[-1]/ I_opt[-1])\n",
    "print((MSE+Ealing_data[-1]/ I_opt[-1])"
   ]
  },
  {
   "cell_type": "markdown",
   "metadata": {},
   "source": [
    "### Bootstrapping"
   ]
  },
  {
   "cell_type": "markdown",
   "metadata": {},
   "source": [
    "### SIR-X model"
   ]
  },
  {
   "cell_type": "markdown",
   "metadata": {},
   "source": [
    "A new epidemic model based in SIR, SIRX, was developed by the [Robert Koch Institut](http://rocs.hu-berlin.de/corona/docs/forecast/model/#sir-x-dynamics-outbreaks-with-temporally-increasing-interventions) and is implemented in what follows. A full description of the model is available in the [Robert Koch Institut SIRX model webiste](http://rocs.hu-berlin.de/corona/docs/forecast/model/#sir-x-dynamics-outbreaks-with-temporally-increasing-interventions)\n"
   ]
  },
  {
   "cell_type": "code",
   "execution_count": null,
   "metadata": {},
   "outputs": [],
   "source": [
    "def sirx(w, t, p):\n",
    "    \"\"\" SIR-X: Dynamic outbreaks with temporally increasing\n",
    "    interventions\n",
    "    \n",
    "    inputs:\n",
    "    w: vector of state variables [S,I,R,X]\n",
    "    where \n",
    "        S: Fraction of the population susceptible to the infection\n",
    "        I: Fraction on the population infected\n",
    "        R: Fraction of the population that recovered\n",
    "        X: Fraction of the population that is quarantined\n",
    "        \n",
    "    t: time\n",
    "    p: vector of parameters\n",
    "    \n",
    "    returns:\n",
    "    f: right hand side of the system of differential equations\n",
    "    \"\"\"\n",
    "    # Unpack state variables\n",
    "    S, I, R, X = w\n",
    "    # Unpack parameters\n",
    "    alpha, beta, kappa_0, kappa = p\n",
    "    dS_dt = -alpha*S*I - kappa_0*S\n",
    "    dI_dt =  alpha*S*I - beta*I - kappa_0*I - kappa*I\n",
    "    dR_dt = kappa_0*S + beta * I\n",
    "    dX_dt = (kappa_0 + kappa) * I\n",
    "    \n",
    "    \n",
    "    f = [dS_dt, dI_dt, dR_dt, dX_dt]\n",
    "    return f"
   ]
  }
 ],
 "metadata": {
  "kernelspec": {
   "display_name": "Python 3",
   "language": "python",
   "name": "python3"
  },
  "language_info": {
   "codemirror_mode": {
    "name": "ipython",
    "version": 3
   },
   "file_extension": ".py",
   "mimetype": "text/x-python",
   "name": "python",
   "nbconvert_exporter": "python",
   "pygments_lexer": "ipython3",
   "version": "3.7.3"
  }
 },
 "nbformat": 4,
 "nbformat_minor": 2
}
