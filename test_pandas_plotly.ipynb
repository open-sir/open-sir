{
 "cells": [
  {
   "cell_type": "code",
   "execution_count": null,
   "metadata": {},
   "outputs": [],
   "source": [
    "import numpy as np\n",
    "import pandas as pd\n",
    "import plotly.graph_objects as go\n",
    "from plotly.subplots import make_subplots"
   ]
  },
  {
   "cell_type": "code",
   "execution_count": null,
   "metadata": {},
   "outputs": [],
   "source": [
    "# Import data\n",
    "df = pd.read_csv('datasets/ealing.csv', parse_dates=True)\n",
    "df.head()"
   ]
  },
  {
   "cell_type": "code",
   "execution_count": null,
   "metadata": {},
   "outputs": [],
   "source": [
    "# Use Ealing as an example to determine model initial conditions\n",
    "infected_ts = df['infected'].tolist()\n",
    "\n",
    "P = 342000 # Ealing population ONS 2018 mid year\n",
    "I = 8      # Infected people at 14/03/2020\n",
    "R = 0      # Recovered people at 29/03/2020\n",
    "n_days = len(df)\n",
    "\n",
    "# Input parameters\n",
    "beta = 0.38 # Per day\n",
    "alpha = 2.5 * beta # WHO estimate\n",
    "\n",
    "# Calculate initial conditions in terms of total number of individuals\n",
    "S0 = (P - I)\n",
    "I0 = I\n",
    "R0 = R    # Recovered people\n",
    "\n",
    "# Construct vector of parameters\n",
    "params = [alpha, beta]\n",
    "\n",
    "# Construct vector of initial conditions\n",
    "w0 = [S0, I0, R0]"
   ]
  },
  {
   "cell_type": "code",
   "execution_count": null,
   "metadata": {},
   "outputs": [],
   "source": [
    "# Import model\n",
    "from opensir.models import SIR, SIRX\n",
    "\n",
    "# Initialize an emplty SIR model\n",
    "my_SIR = SIR()\n",
    "\n",
    "# Set model parameters, solve and unpack solution\n",
    "my_SIR.set_params(p=params, initial_conds=w0)\n",
    "my_SIR.solve(tf_days=n_days-1, numpoints=n_days)\n",
    "sol = my_SIR.fetch()\n",
    "\n",
    "# Unpack the numerical solution for the susceptible (S), infected (I) and recovered or removed (R)\n",
    "S_sir = sol[:,1]\n",
    "I_sir = sol[:,2]\n",
    "R_sir = sol[:,3]"
   ]
  },
  {
   "cell_type": "code",
   "execution_count": null,
   "metadata": {},
   "outputs": [],
   "source": [
    "# Plot the results\n",
    "\n",
    "days_list = df['date'].tolist()\n",
    "\n",
    "fig = go.Figure()\n",
    "fig.update_layout(title='Initial model vs. data')\n",
    "fig.add_trace(go.Scatter(x=days_list, y=I_sir, mode='lines+markers', name='SIR_model'))\n",
    "fig.add_trace(go.Scatter(x=days_list, y=infected_ts, mode='markers', name='data'))\n",
    "fig.show()"
   ]
  },
  {
   "cell_type": "code",
   "execution_count": null,
   "metadata": {},
   "outputs": [],
   "source": [
    "# Create SIR with default parameters\n",
    "my_SIR_fitted = SIR()\n",
    "my_SIR_fitted.set_params(params,w0)\n",
    "\n",
    "# Fit parameters\n",
    "w = my_SIR_fitted.fit(df.index.tolist(), infected_ts, P, fit_index=[True,False])\n",
    "# Print the fitted reproduction rate\n",
    "print(\"Fitted reproduction rate R_0 = %.2f\" % my_SIR_fitted.r0)\n",
    "\n",
    "# Build the new solution\n",
    "my_SIR_fitted.solve(tf_days=n_days-1, numpoints=n_days)\n",
    "# Extract solution\n",
    "sol = my_SIR_fitted.fetch()\n",
    "\n",
    "I_sir_fitted = sol[:,2]\n",
    "\n",
    "# Plot the results\n",
    "fig = go.Figure()\n",
    "fig.update_layout(title='Fitted model vs. data')\n",
    "fig.add_trace(go.Scatter(x=days_list, y=I_sir_fitted, mode='lines+markers', name='SIR_model'))\n",
    "fig.add_trace(go.Scatter(x=days_list, y=infected_ts, mode='markers', name='data'))\n",
    "fig.show()"
   ]
  },
  {
   "cell_type": "markdown",
   "metadata": {},
   "source": [
    "# Examples"
   ]
  },
  {
   "cell_type": "code",
   "execution_count": null,
   "metadata": {},
   "outputs": [],
   "source": [
    "# Long term simulation - DANGER: the longer the timeframe, the less accurate the model becomes.\n",
    "long_term_days = 90\n",
    "# Convert into seconds\n",
    "tf_long = long_term_days-1\n",
    "sol_long = my_SIR_fitted.solve(tf_long, long_term_days).fetch()\n",
    "N_S_long = sol_long[:,1]\n",
    "N_I_long = sol_long[:,2]\n",
    "N_R_long = sol_long[:,3]\n",
    "\n",
    "tspan_long = np.linspace(0,tf_long,long_term_days)\n",
    "\n",
    "# Plot the number of susceptible, infected and recovered in a two months period\n",
    "\n",
    "S_trace = go.Scatter(x=tspan_long, y=N_S_long, mode='lines', name='Susceptible')\n",
    "I_trace = go.Scatter(x=tspan_long, y=N_I_long, mode='lines', name='Infected')\n",
    "R_trace = go.Scatter(x=tspan_long, y=N_R_long, mode='lines', name='Recovered or Removed')\n",
    "\n",
    "'''\n",
    "# Using subplots\n",
    "fig = make_subplots(rows=1, cols=3)\n",
    "fig.update_layout(title='Long term model')\n",
    "fig.add_trace(S_trace, row=1, col=1)\n",
    "fig.add_trace(I_trace, row=1, col=2)\n",
    "fig.add_trace(R_trace, row=1, col=3)\n",
    "fig.show()\n",
    "'''\n",
    "\n",
    "# All in one\n",
    "fig = go.Figure()\n",
    "fig.update_layout(title='Long term model')\n",
    "fig.add_trace(S_trace)\n",
    "fig.add_trace(I_trace)\n",
    "fig.add_trace(R_trace)\n",
    "fig.show()"
   ]
  },
  {
   "cell_type": "code",
   "execution_count": null,
   "metadata": {},
   "outputs": [],
   "source": [
    "# Sensitivity analysis\n",
    "def compare_infections(model, tf, numpoints, alpha_list=2.5, abserr=1e-8, relerr=1e-6):\n",
    "    \"\"\" compare_infections compare SIR model predictions against\n",
    "    a list of alpha values\n",
    "    \n",
    "    Inputs:\n",
    "    w0: Initial conditions\n",
    "    t: Time vector /\n",
    "    alpha_list: list or numpy array of values of alpha to be tested\n",
    "    \n",
    "    Outputs:\n",
    "    S_list: List of predictions for the fraction of susceptible population for each alpha\n",
    "    I_list: List of predictions for the fraction of infected population for each alpha\n",
    "    R_list: List of predictions for the fraction of recovered/removed population for each alpha\n",
    "    \"\"\"\n",
    "    S_list, I_list, R_list = [], [], []\n",
    "    \n",
    "    for i in alpha_list:\n",
    "        # Update parameter list\n",
    "        model.p[0] = i\n",
    "        wsol=model.solve(tf,numpoints).fetch()\n",
    "        S_list.append(wsol[:,1])\n",
    "        I_list.append(wsol[:,2])\n",
    "        R_list.append(wsol[:,3]) \n",
    "    return S_list, I_list, R_list"
   ]
  },
  {
   "cell_type": "code",
   "execution_count": null,
   "metadata": {},
   "outputs": [],
   "source": [
    "alpha_list = beta*np.array([1.5,1.6,1.7])\n",
    "S_list, I_list, R_list = compare_infections(my_SIR, tf_long, long_term_days, alpha_list)"
   ]
  },
  {
   "cell_type": "code",
   "execution_count": null,
   "metadata": {
    "scrolled": false
   },
   "outputs": [],
   "source": [
    "n_sens = len(S_list)\n",
    "\n",
    "\n",
    "fig = make_subplots(rows=1, cols=3)\n",
    "fig.update_layout(title='Sensitivity analysis on Reproduction Rate R0')\n",
    "\n",
    "R0_list = [1.5, 1.6, 1.7]\n",
    "color_list = ['blue','black','red']\n",
    "dash_list = ['dot', 'solid', 'dashdot']\n",
    "\n",
    "for i in range(n_sens):\n",
    "    if True:\n",
    "        R0 = R0_list[i]\n",
    "        line_properties = dict(color=color_list[i], width=1.5, dash=dash_list[i])\n",
    "        S_trace = go.Scatter(x=tspan_long, y=S_list[i], mode='lines', name='Susceptible - %s' % R0, \n",
    "                             line=line_properties)\n",
    "        I_trace = go.Scatter(x=tspan_long, y=I_list[i], mode='lines', name='Infected - %s' % R0, \n",
    "                             line=line_properties)\n",
    "        R_trace = go.Scatter(x=tspan_long, y=R_list[i], mode='lines', name='Recovered or Removed - %s' % R0, \n",
    "                             line=line_properties)\n",
    "\n",
    "        fig.add_trace(S_trace, row=1, col=1)\n",
    "        fig.add_trace(I_trace, row=1, col=2)\n",
    "        fig.add_trace(R_trace, row=1, col=3)\n",
    "\n",
    "fig.show()\n",
    "\n",
    "# TODO:  fix legend"
   ]
  },
  {
   "cell_type": "code",
   "execution_count": null,
   "metadata": {},
   "outputs": [],
   "source": []
  },
  {
   "cell_type": "code",
   "execution_count": null,
   "metadata": {},
   "outputs": [],
   "source": []
  }
 ],
 "metadata": {
  "hide_input": false,
  "kernelspec": {
   "display_name": "Python 3",
   "language": "python",
   "name": "python3"
  },
  "language_info": {
   "codemirror_mode": {
    "name": "ipython",
    "version": 3
   },
   "file_extension": ".py",
   "mimetype": "text/x-python",
   "name": "python",
   "nbconvert_exporter": "python",
   "pygments_lexer": "ipython3",
   "version": "3.7.6"
  },
  "varInspector": {
   "cols": {
    "lenName": 16,
    "lenType": 16,
    "lenVar": 40
   },
   "kernels_config": {
    "python": {
     "delete_cmd_postfix": "",
     "delete_cmd_prefix": "del ",
     "library": "var_list.py",
     "varRefreshCmd": "print(var_dic_list())"
    },
    "r": {
     "delete_cmd_postfix": ") ",
     "delete_cmd_prefix": "rm(",
     "library": "var_list.r",
     "varRefreshCmd": "cat(var_dic_list()) "
    }
   },
   "types_to_exclude": [
    "module",
    "function",
    "builtin_function_or_method",
    "instance",
    "_Feature"
   ],
   "window_display": false
  }
 },
 "nbformat": 4,
 "nbformat_minor": 4
}
