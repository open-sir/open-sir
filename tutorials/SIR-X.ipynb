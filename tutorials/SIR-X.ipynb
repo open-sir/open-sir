{
 "cells": [
  {
   "cell_type": "markdown",
   "metadata": {},
   "source": [
    "# SIR-X"
   ],
   "execution_count": null,
   "outputs": []
  },
  {
   "cell_type": "markdown",
   "metadata": {},
   "source": [
    "This notebook exemplifies how Open-SIR can be used to fit the SIR-X model by [Maier and Dirk (2020)](https://science.sciencemag.org/content/early/2020/04/07/science.abb4557.full) to existing data and make predictions. The SIR-X model is an standard generalization of the Susceptible-Infectious-Removed (SIR) model, which includes the influence of exogeneous factors such as policy changes, lockdown of the whole population and quarantine of the infectious individuals.\n",
    "\n",
    "To validate the Open-SIR implementation of the SIR-X model, it will be attempted to reproduce the parameter fitting published in the [suplementary material](https://science.sciencemag.org/cgi/content/full/science.abb4557/DC1) of the original recent article published by [Maier and Dirk (2020)](https://science.sciencemag.org/content/early/2020/04/07/science.abb4557.full). For simplicity, the validation will be performed only for the city of Guangdong, China."
   ],
   "execution_count": null,
   "outputs": []
  },
  {
   "cell_type": "markdown",
   "metadata": {},
   "source": [
    "## Import modules"
   ],
   "execution_count": null,
   "outputs": []
  },
  {
   "cell_type": "code",
   "execution_count": null,
   "metadata": {},
   "outputs": [],
   "source": [
    "# These lines are required only if opensir wasn't installed using pip install, or if opensir is being running in the pipenv virtual environment\n",
    "path_opensir = '../'\n",
    "sys.path.append(path_opensir)\n",
    "\n",
    "# Import packages\n",
    "import pandas as pd\n",
    "import matplotlib.pyplot as plt"
   ]
  },
  {
   "cell_type": "markdown",
   "metadata": {},
   "source": [
    "## Data sourcing"
   ],
   "execution_count": null,
   "outputs": []
  },
  {
   "cell_type": "markdown",
   "metadata": {},
   "source": [
    "We will source data from the repository of the [John Hopkins University COVID-19 dashboard] (https://coronavirus.jhu.edu/map.html) published formally as a correspondence in [The Lancet](https://www.thelancet.com/journals/laninf/article/PIIS1473-3099(20)30120-1/fulltext#seccestitle10). This time series data contains the number of reported cases $C(t)$ per day for a number of cities.\n",
    "\n"
   ],
   "execution_count": null,
   "outputs": []
  },
  {
   "cell_type": "code",
   "execution_count": null,
   "metadata": {},
   "outputs": [],
   "source": [
    "# Source data from John Hokpins university reposotiry\n",
    "jhu_link = \"https://raw.githubusercontent.com/CSSEGISandData/COVID-19/master/who_covid_19_situation_reports/who_covid_19_sit_rep_time_series/who_covid_19_sit_rep_time_series.csv\"\n",
    "jhu_df = pd.read_csv(jhu_link)\n",
    "# Explore the dataset\n",
    "jhu_df.head(10)"
   ]
  },
  {
   "cell_type": "markdown",
   "metadata": {},
   "source": [
    "It is observed that the column \"Province/States\" contains the name of the cities, and since the forth column a time series stamp (or index) is provided to record daily data of reported cases. Additionally, there are many days without recorded data for a number of chinese cities. This won't be an issue for parameter fitting as **Open-SIR** doesn't require uniform spacement of the observed data."
   ],
   "execution_count": null,
   "outputs": []
  },
  {
   "cell_type": "markdown",
   "metadata": {},
   "source": [
    "### Data preparation\n",
    "\n",
    "In the following lines, the time series for Guangdong reported cases $C(t)$ is extracted from the original dataframe. Thereafter, the columns are converted to a pandas date time index in order to perform further data preparation steps."
   ],
   "execution_count": null,
   "outputs": []
  },
  {
   "cell_type": "code",
   "execution_count": null,
   "metadata": {},
   "outputs": [],
   "source": [
    "China = jhu_df[jhu_df[jhu_df.columns[1]]==\"China\"]\n",
    "city_name = \"Guangdong\"\n",
    "city = China[China[\"Province/States\"] == city_name]\n",
    "city = city.drop(columns=[\"Province/States\", \"Country/Region\", \"WHO region\",])\n",
    "time_index = pd.to_datetime(city.columns)\n",
    "data = city.values\n",
    "# Visualize the time\n",
    "ts = pd.Series(data = city.values[0], index = time_index)"
   ]
  },
  {
   "cell_type": "markdown",
   "metadata": {},
   "source": [
    "Using the function ts.plot() a quick visualization of the dataset is obtained:"
   ],
   "execution_count": null,
   "outputs": []
  },
  {
   "cell_type": "code",
   "execution_count": null,
   "metadata": {},
   "outputs": [],
   "source": [
    "ts.plot()\n",
    "plt.show()"
   ]
  },
  {
   "cell_type": "markdown",
   "metadata": {},
   "source": [
    "Data cleaning"
   ],
   "execution_count": null,
   "outputs": []
  },
  {
   "cell_type": "code",
   "execution_count": null,
   "metadata": {},
   "outputs": [],
   "source": [
    "ts_clean = ts.dropna()\n",
    "# Extract data\n",
    "ts_fit = ts_clean['2020-01-21':\"2020-02-12\"]\n",
    "# Convert index to numeric\n",
    "ts_num = pd.to_numeric(ts_fit.index)\n",
    "t0 = ts_num[0]\n",
    "# Convert datetime to days\n",
    "t_days = (ts_num-t0)/(10**9*86400)\n",
    "t_days = t_days.astype(int).values\n",
    "# t_days is an input for SIR"
   ]
  },
  {
   "cell_type": "code",
   "execution_count": null,
   "metadata": {},
   "outputs": [],
   "source": [
    "# Define the X number\n",
    "nX = ts_fit.values # Number of infected\n",
    "N = 104.3e6 # Population size of Guangdong"
   ]
  },
  {
   "cell_type": "markdown",
   "metadata": {},
   "source": [
    "Exploration of the dataset"
   ],
   "execution_count": null,
   "outputs": []
  },
  {
   "cell_type": "code",
   "execution_count": null,
   "metadata": {},
   "outputs": [],
   "source": [
    "ts_fit.plot(style='ro')\n",
    "plt.xlabel(\"Number of infected\")\n",
    "plt.show()"
   ]
  },
  {
   "cell_type": "markdown",
   "metadata": {},
   "source": [
    "The missing data between the 25th of January and the 31st of January doesn't prevent to fit the SIR-X model"
   ],
   "execution_count": null,
   "outputs": []
  },
  {
   "cell_type": "markdown",
   "metadata": {},
   "source": [
    "### Setting up SIR and SIR-X models"
   ],
   "execution_count": null,
   "outputs": []
  },
  {
   "cell_type": "markdown",
   "metadata": {},
   "source": [
    "The population $N$ of the city is a necessary input for the model. In this notebook, this was hardocded, but it can be sourced directly from a web source.\n",
    "\n",
    "Note that whilst the SIR model estimates directly the number of infected people, $N I(t)$, SIR-X estimates the number of infected people based on the number of tested cases that are in quarantine or in an hospital $N X(t)$"
   ],
   "execution_count": null,
   "outputs": []
  },
  {
   "cell_type": "code",
   "execution_count": null,
   "metadata": {},
   "outputs": [],
   "source": [
    "from opensir.models import SIR, SIRX\n",
    "nX = ts_fit.values # Number of observed infections of the time series\n",
    "N = 104.3e6 # Population size of Guangdong\n",
    "params = [0.95, 0.38]\n",
    "w0 = (N-nX[0], nX[0], 0)\n",
    "\n",
    "G_sir = SIR()\n",
    "G_sir.set_params(p=params, initial_conds=w0)\n",
    "G_sir.fit_input=2\n",
    "G_sir.fit(t_days, nX, N)\n",
    "G_sir.solve(t_days[-1], t_days[-1]+1)\n",
    "t_SIR = G_sir.fetch()[:,0]\n",
    "I_SIR = G_sir.fetch()[:,2]"
   ]
  },
  {
   "cell_type": "code",
   "execution_count": null,
   "metadata": {},
   "outputs": [],
   "source": [
    "plt.plot(t_SIR, I_SIR)\n",
    "plt.plot(t_days, nX, 'ro')\n",
    "plt.show()"
   ]
  },
  {
   "cell_type": "markdown",
   "metadata": {},
   "source": [
    "The SIR model is clearly not appropriate to fit this data. We will repeat the process with a SIR-X model"
   ],
   "execution_count": null,
   "outputs": []
  },
  {
   "cell_type": "code",
   "execution_count": null,
   "metadata": {},
   "outputs": [],
   "source": [
    "g_sirx = SIRX()\n",
    "params = [6.2/8, 1/8, 0.05, 0.05, 5]\n",
    "# X_0 can be directly ontained from the statistics\n",
    "n_x0 = nX[0]            # Number of people tested positive\n",
    "n_i0 = nX[0]\n",
    "\n",
    "w0 = (N-n_x0-n_i0, n_i0, 0, n_x0)\n",
    "g_sirx.set_params(p=params, initial_conds=w0)\n",
    "# Fit all parameters\n",
    "fit_index=[False, False, True, True, True]\n",
    "g_sirx.fit(t_days, nX, N, fit_index = fit_index)\n",
    "g_sirx.solve(t_days[-1], t_days[-1]+1)\n",
    "t_sirx = g_sirx.fetch()[:,0]\n",
    "inf_sirx = g_sirx.fetch()[:,4]"
   ]
  },
  {
   "cell_type": "code",
   "execution_count": null,
   "metadata": {},
   "outputs": [],
   "source": [
    "g_sirx.p"
   ]
  },
  {
   "cell_type": "code",
   "execution_count": null,
   "metadata": {},
   "outputs": [],
   "source": [
    "plt.plot(t_sirx, inf_sirx)\n",
    "plt.plot(t_SIR, I_SIR)\n",
    "plt.plot(t_days, nX, 'ro')\n",
    "plt.legend([\"SIR-X\", \"SIR\", \"observed\"])\n",
    "plt.title(\"Guangdong\")\n",
    "plt.show()"
   ]
  },
  {
   "cell_type": "markdown",
   "metadata": {},
   "source": [
    "After fitting the parameters, the effective infectious period $T_{I,eff}$ and the effective reproduction rate $R_{0,eff}$ can be obtained from the model properties\n",
    "\n",
    "$$ T_{I,eff} = (\\beta + \\kappa + \\kappa_0)^{-1} $$\n",
    "$$ R_{0,eff} = \\alpha T_{I,eff}$$\n",
    "\n",
    "Aditionally, the Public containment leverage $P$ and the quarantine probability $Q$ can be calculated through:\n",
    "\n",
    "$$ P = \\frac{\\kappa_0}{\\kappa_0 + \\kappa} $$\n",
    "$$ Q = \\frac{\\kappa_0 + \\kappa}{\\beta + \\kappa_0 + \\kappa} $$"
   ],
   "execution_count": null,
   "outputs": []
  },
  {
   "cell_type": "code",
   "execution_count": null,
   "metadata": {},
   "outputs": [],
   "source": [
    "print(\"Effective infectious period T_I_eff =  %.2f days \" % g_sirx.t_inf_eff )\n",
    "print(\"Effective reproduction rate R_0_eff =  %.2f, Maier and Brockmann = %.2f\" % (g_sirx.r0_eff, 3.02))\n",
    "print(\"Public containment leverage =  %.2f, Maier and Brockmann = %.2f\" % (g_sirx.pcl, 0.75))\n",
    "print(\"Quarantine probability =  %.2f, Maier and Brockmann = %.2f\" % (g_sirx.q_prob, 0.51))"
   ]
  },
  {
   "cell_type": "markdown",
   "metadata": {},
   "source": [
    "Now we can use the model to predict when the peak will occur and what will be the maximum number of infected"
   ],
   "execution_count": null,
   "outputs": []
  },
  {
   "cell_type": "code",
   "execution_count": null,
   "metadata": {},
   "outputs": [],
   "source": [
    "# Predict\n",
    "g_sirx.solve(40,41)\n",
    "# Plot\n",
    "plt.plot(g_sirx.fetch()[:,4]) # X(t)\n",
    "plt.plot(g_sirx.fetch()[:,2]) # I(t)\n",
    "plt.xlabel('Day')\n",
    "plt.ylabel('Number of people')\n",
    "plt.legend([\"X(t): tested and quarantined\",\"I(t) = infected\"])\n",
    "plt.title(city_name)\n",
    "plt.show()"
   ]
  },
  {
   "cell_type": "markdown",
   "metadata": {},
   "source": [
    "The model was trained with a limited amount of data. It is clear to observe that since the measures took place in Guangdong, at least 6 weels pf quarantine were necessary to control the pandemics. Note that a limitation of this model is that it predicts an equilibrium where the number of infected is 0 after a short time. In reality, this amount will decrease to a small number. What we see in the TV is the X(t) curve. After the curve \"flattens\", it is necessary to keep quarantine for more time and perform effective contact tracing of the remainder of the infected people who hasn't recovered yet."
   ],
   "execution_count": null,
   "outputs": []
  }
 ],
 "metadata": {
  "file_extension": ".py",
  "kernelspec": {
   "display_name": "Python 3",
   "language": "python",
   "name": "python3"
  },
  "language_info": {
   "codemirror_mode": {
    "name": "ipython",
    "version": 3
   },
   "file_extension": ".py",
   "mimetype": "text/x-python",
   "name": "python",
   "nbconvert_exporter": "python",
   "pygments_lexer": "ipython3",
   "version": "3.7.4-final"
  },
  "mimetype": "text/x-python",
  "name": "python",
  "npconvert_exporter": "python",
  "pygments_lexer": "ipython3",
  "version": 3
 },
 "nbformat": 4,
 "nbformat_minor": 2
}